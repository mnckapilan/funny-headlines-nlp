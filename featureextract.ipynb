{
 "cells": [
  {
   "cell_type": "code",
   "execution_count": 4,
   "metadata": {
    "collapsed": true
   },
   "outputs": [],
   "source": [
    "import pandas as pd\n",
    "from sklearn.feature_extraction.text import CountVectorizer\n",
    "from sklearn.model_selection import train_test_split\n",
    "from sklearn.svm import SVR\n",
    "\n",
    "from processor import *"
   ]
  },
  {
   "cell_type": "code",
   "execution_count": 5,
   "outputs": [],
   "source": [
    "train_df = pd.read_csv('data/task-1/train.csv')\n",
    "test_df = pd.read_csv('data/task-1/dev.csv')\n",
    "\n",
    "training_data = train_df['original']\n",
    "training_edits = train_df['edit']\n",
    "training_grades = train_df['meanGrade']\n",
    "\n",
    "edited_training = pd.Series(create_edited_sentences(training_data, training_edits))\n",
    "training_dataset, validation_dataset, training_gradeset, validation_gradeset = train_test_split(edited_training, training_grades, test_size=0.2, random_state=42)"
   ],
   "metadata": {
    "collapsed": false,
    "pycharm": {
     "name": "#%%\n"
    }
   }
  },
  {
   "cell_type": "code",
   "execution_count": 14,
   "outputs": [],
   "source": [
    "def model_performance(output, target, print_output=False):\n",
    "    sq_error = (output - target)**2\n",
    "\n",
    "    sse = np.sum(sq_error)\n",
    "    mse = np.mean(sq_error)\n",
    "    rmse = np.sqrt(mse)\n",
    "\n",
    "    if print_output:\n",
    "        print(f'| MSE: {mse:.2f} | RMSE: {rmse:.2f} |')\n",
    "\n",
    "    return sse, mse"
   ],
   "metadata": {
    "collapsed": false,
    "pycharm": {
     "name": "#%%\n"
    }
   }
  },
  {
   "cell_type": "code",
   "execution_count": 15,
   "outputs": [
    {
     "data": {
      "text/plain": "['000',\n '02',\n '10',\n '100',\n '100k',\n '100m',\n '101',\n '103',\n '104',\n '106',\n '10g',\n '11',\n '12',\n '13',\n '130',\n '133m',\n '138',\n '1380',\n '14',\n '140',\n '15',\n '16',\n '168',\n '17',\n '18',\n '180',\n '19',\n '190',\n '192',\n '1928',\n '1973',\n '1984',\n '199',\n '1st',\n '20',\n '200',\n '2004',\n '2005',\n '2007',\n '2008',\n '2009',\n '2010',\n '2011',\n '2013',\n '2016',\n '2017',\n '2018',\n '2019',\n '202',\n '2020',\n '2024',\n '2050',\n '20m',\n '21',\n '21st',\n '22',\n '227',\n '230k',\n '235',\n '23m',\n '24',\n '25',\n '250',\n '26b',\n '27',\n '28',\n '29th',\n '2nd',\n '30',\n '300mw',\n '301',\n '30th',\n '31',\n '34',\n '35',\n '35s',\n '36',\n '361',\n '37',\n '38',\n '39',\n '40',\n '400',\n '41',\n '418m',\n '42',\n '43',\n '44',\n '45',\n '451',\n '462',\n '473',\n '50',\n '500',\n '53',\n '547',\n '55',\n '57',\n '59',\n '60',\n '600',\n '61',\n '62',\n '63rd',\n '64',\n '65',\n '666',\n '67',\n '69',\n '70',\n '700',\n '75',\n '76',\n '77',\n '773',\n '78',\n '80s',\n '81',\n '82',\n '83',\n '84',\n '85bn',\n '87',\n '88',\n '89',\n '8g',\n '90',\n '900',\n '9000',\n '91',\n '92',\n '9th',\n 'aaa',\n 'aardvark',\n 'aardvarks',\n 'abandoned',\n 'abandoning',\n 'abbas',\n 'abbott',\n 'abe',\n 'abetted',\n 'ability',\n 'able',\n 'abolish',\n 'abortion',\n 'abortions',\n 'aborts',\n 'about',\n 'abraham',\n 'abroad',\n 'abrupt',\n 'absence',\n 'absent',\n 'absolute',\n 'abuse',\n 'abusers',\n 'abuses',\n 'aca',\n 'academic',\n 'academics',\n 'accelerate',\n 'accent',\n 'accents',\n 'accept',\n 'acceptance',\n 'accepts',\n 'access',\n 'accident',\n 'accidental',\n 'accidentally',\n 'accomplished',\n 'accord',\n 'according',\n 'account',\n 'accountability',\n 'accountable',\n 'accounts',\n 'accusations',\n 'accused',\n 'accuser',\n 'accusers',\n 'accuses',\n 'accusing',\n 'aceh',\n 'acetaminophen',\n 'achieve',\n 'achievements',\n 'acid',\n 'acknowledge',\n 'acknowledged',\n 'acknowledges',\n 'aclu',\n 'acorn',\n 'acquired',\n 'acre',\n 'acronyms',\n 'across',\n 'act',\n 'acted',\n 'acting',\n 'action',\n 'actions',\n 'activism',\n 'activist',\n 'activists',\n 'activities',\n 'activity',\n 'actor',\n 'actors',\n 'actress',\n 'acts',\n 'actual',\n 'actually',\n 'ad',\n 'adam',\n 'adamant',\n 'adani',\n 'add',\n 'added',\n 'addicts',\n 'adding',\n 'address',\n 'addresses',\n 'adds',\n 'adelson',\n 'adjective',\n 'adl',\n 'admin',\n 'administration',\n 'adminstration',\n 'admiral',\n 'admission',\n 'admissions',\n 'admit',\n 'admits',\n 'admitted',\n 'admitting',\n 'admonish',\n 'adolf',\n 'adopt',\n 'adoption',\n 'adorable',\n 'adp',\n 'ads',\n 'adult',\n 'adulthood',\n 'adulting',\n 'advanced',\n 'advances',\n 'advertisements',\n 'advertiser',\n 'advertises',\n 'advertising',\n 'advice',\n 'adviser',\n 'advisers',\n 'advisor',\n 'advisors',\n 'advocacy',\n 'advocate',\n 'advocates',\n 'advocating',\n 'aecon',\n 'aerial',\n 'aesop',\n 'afd',\n 'affair',\n 'affairs',\n 'affect',\n 'affected',\n 'affection',\n 'affiliated',\n 'affiliation',\n 'affirmative',\n 'affirms',\n 'afford',\n 'afghan',\n 'afghanistan',\n 'afghans',\n 'afraid',\n 'africa',\n 'african',\n 'afrin',\n 'after',\n 'aftermath',\n 'ag',\n 'again',\n 'against',\n 'age',\n 'aged',\n 'agencies',\n 'agency',\n 'agenda',\n 'agendas',\n 'agent',\n 'agents',\n 'aggression',\n 'aggressive',\n 'aggressiveness',\n 'agnew',\n 'ago',\n 'agonizing',\n 'agree',\n 'agreement',\n 'agreements',\n 'agrees',\n 'agriculture',\n 'aground',\n 'ahead',\n 'ahmed',\n 'aid',\n 'aide',\n 'aides',\n 'aids',\n 'ails',\n 'aim',\n 'aimed',\n 'aiming',\n 'air',\n 'airbnb',\n 'airborne',\n 'aircraft',\n 'airing',\n 'airline',\n 'airlines',\n 'airplanes',\n 'airport',\n 'airstrike',\n 'airstrikes',\n 'aisle',\n 'aisles',\n 'al',\n 'alabama',\n 'alarm',\n 'alaska',\n 'alaskan',\n 'albino',\n 'albright',\n 'alcohol',\n 'alcoholic',\n 'alcoholics',\n 'alek',\n 'aleppo',\n 'alert',\n 'alex',\n 'algeria',\n 'ali',\n 'alias',\n 'alibaba',\n 'alien',\n 'aliens',\n 'aligning',\n 'alimony',\n 'alive',\n 'all',\n 'allegation',\n 'allegations',\n 'alleged',\n 'allegedly',\n 'allen',\n 'allergies',\n 'allergy',\n 'allies',\n 'alligators',\n 'allotments',\n 'allow',\n 'allowance',\n 'allowed',\n 'allowing',\n 'allows',\n 'allure',\n 'ally',\n 'alma',\n 'almost',\n 'alone',\n 'along',\n 'alpaca',\n 'alpacas',\n 'alphabet',\n 'already',\n 'also',\n 'alt',\n 'alter',\n 'alternative',\n 'alternatives',\n 'aluminum',\n 'alumni',\n 'always',\n 'am',\n 'amazon',\n 'ambassador',\n 'ambitions',\n 'amendment',\n 'america',\n 'american',\n 'americans',\n 'amid',\n 'ammunition',\n 'amnesty',\n 'among',\n 'amount',\n 'amounts',\n 'amp',\n 'amphibian',\n 'ample',\n 'amputations',\n 'amusement',\n 'an',\n 'anal',\n 'analog',\n 'analysis',\n 'analytica',\n 'anarchic',\n 'anbang',\n 'anchovies',\n 'anchovy',\n 'ancient',\n 'and',\n 'andreessen',\n 'andrew',\n 'andy',\n 'anecdote',\n 'angel',\n 'angeles',\n 'anger',\n 'angle',\n 'angles',\n 'angry',\n 'animal',\n 'animals',\n 'animate',\n 'animated',\n 'animating',\n 'animation',\n 'anime',\n 'ankara',\n 'ankles',\n 'anne',\n 'annihilating',\n 'annihilation',\n 'anniversary',\n 'announce',\n 'announced',\n 'announcement',\n 'announces',\n 'announcing',\n 'annoy',\n 'annoying',\n 'annual',\n 'anonymous',\n 'anonymously',\n 'another',\n 'answer',\n 'answers',\n 'antarctica',\n 'antelope',\n 'anthem',\n 'anthony',\n 'anti',\n 'anticapitalist',\n 'antifa',\n 'antisemitism',\n 'antlers',\n 'ants',\n 'anxiety',\n 'any',\n 'anybody',\n 'anymore',\n 'anyone',\n 'anything',\n 'anytime',\n 'anyway',\n 'anywhere',\n 'ap',\n 'apartheid',\n 'apartment',\n 'apathy',\n 'ape',\n 'apes',\n 'apnewsbreak',\n 'apocalypse',\n 'apocalyptic',\n 'apologies',\n 'apologists',\n 'apologize',\n 'apologizes',\n 'apology',\n 'app',\n 'appalling',\n 'apparel',\n 'apparent',\n 'apparently',\n 'appeal',\n 'appeals',\n 'appear',\n 'appearance',\n 'appears',\n 'appeasing',\n 'appetizer',\n 'appetizers',\n 'applaud',\n 'applauded',\n 'applauds',\n 'applause',\n 'apple',\n 'apples',\n 'appoint',\n 'appointed',\n 'appointees',\n 'appointments',\n 'appraisal',\n 'appreciate',\n 'approach',\n 'appropriate',\n 'appropriated',\n 'approval',\n 'approve',\n 'approved',\n 'approves',\n 'approving',\n 'apu',\n 'aquarium',\n 'ar',\n 'arab',\n 'arabia',\n 'arbaeen',\n 'arcade',\n 'archaeology',\n 'archeologists',\n 'architect',\n 'architecture',\n 'archive',\n 'ardern',\n 'are',\n 'areas',\n 'arena',\n 'argentine',\n 'argue',\n 'arguing',\n 'argument',\n 'arguments',\n 'ariana',\n 'arizona',\n 'arkansas',\n 'arm',\n 'armadillos',\n 'armando',\n 'armed',\n 'armenia',\n 'armenian',\n 'arming',\n 'arms',\n 'army',\n 'aromas',\n 'aromatherapy',\n 'around',\n 'aroused',\n 'arpaio',\n 'arrest',\n 'arrested',\n 'arrests',\n 'arrival',\n 'arrives',\n 'arsenal',\n 'art',\n 'arthur',\n 'article',\n 'articles',\n 'artificial',\n 'artist',\n 'arts',\n 'as',\n 'ash',\n 'ashes',\n 'asia',\n 'asian',\n 'aside',\n 'ask',\n 'asked',\n 'asking',\n 'asks',\n 'aslan',\n 'asphalt',\n 'aspiring',\n 'ass',\n 'assad',\n 'assail',\n 'assange',\n 'assassinate',\n 'assassination',\n 'assault',\n 'assaulted',\n 'assembly',\n 'asserting',\n 'assertion',\n 'asserts',\n 'assessment',\n 'asshole',\n 'assimilation',\n 'assist',\n 'assistance',\n 'assistants',\n 'associated',\n 'association',\n 'assurances',\n 'asteroid',\n 'asthma',\n 'astronaut',\n 'at',\n 'ate',\n 'atheist',\n 'atheists',\n 'athlete',\n 'athletes',\n 'athletic',\n 'atlantic',\n 'atomic',\n 'attaching',\n 'attack',\n 'attacked',\n 'attacker',\n 'attackers',\n 'attacking',\n 'attacks',\n 'attempt',\n 'attempting',\n 'attempts',\n 'attend',\n 'attendance',\n 'attendees',\n 'attention',\n 'attire',\n 'attorney',\n 'attorneys',\n 'attractive',\n 'attracts',\n 'atwood',\n 'au',\n 'auction',\n 'auctioned',\n 'auctions',\n 'audio',\n 'audition',\n 'auditions',\n 'aunt',\n 'aussie',\n 'austin',\n 'australia',\n 'australian',\n 'austria',\n 'austrian',\n 'author',\n 'authoritarian',\n 'authoritarianism',\n 'authorities',\n 'authority',\n 'autism',\n 'auto',\n 'autocracy',\n 'autocrats',\n 'autograph',\n 'automakers',\n 'automatic',\n 'automatically',\n 'autopilot',\n 'autopsies',\n 'avalanche',\n 'ave',\n 'avenge',\n 'avert',\n 'averts',\n 'avoid',\n 'avoiding',\n 'await',\n 'awaken',\n 'award',\n 'awarded',\n 'awards',\n 'aware',\n 'away',\n 'awful',\n 'awkward',\n 'axes',\n 'ayatollah',\n 'babbles',\n 'babies',\n 'babis',\n 'baboon',\n 'baby',\n 'babysitter',\n 'babysitters',\n 'bacchanalia',\n 'back',\n 'backbone',\n 'backed',\n 'backer',\n 'backers',\n 'backfire',\n 'background',\n 'backing',\n 'backlash',\n 'backpack',\n 'backpage',\n 'backs',\n 'backstory',\n 'backup',\n 'backyard',\n 'bacon',\n 'bacteria',\n 'bad',\n 'badlands',\n 'badly',\n 'badminton',\n 'bafta',\n 'bag',\n 'bagel',\n 'bagels',\n 'baghdad',\n 'bags',\n 'bahrain',\n 'bailey',\n 'bails',\n 'baited',\n 'baked',\n 'bakeries',\n 'bakers',\n 'bakery',\n 'baking',\n 'bali',\n 'ball',\n 'ballad',\n 'ballerina',\n 'ballet',\n 'ballets',\n 'ballgame',\n 'ballistic',\n 'balloon',\n 'balloons',\n 'ballot',\n 'balls',\n 'bamboozles',\n 'ban',\n 'banality',\n 'banana',\n 'bananas',\n 'band',\n 'bandits',\n 'bandwagon',\n 'bang',\n 'banger',\n 'bangladesh',\n 'bangladeshi',\n 'bank',\n 'banker',\n 'bankers',\n 'bankrolls',\n 'bankruptcy',\n 'banks',\n 'banksy',\n 'banned',\n 'banning',\n 'bannon',\n 'bans',\n 'bar',\n 'barack',\n 'barbara',\n 'barbecue',\n 'barbeque',\n 'barber',\n 'barbers',\n 'barbershop',\n 'barcelona',\n 'barclays',\n 'bare',\n 'bargain',\n 'barge',\n 'barks',\n 'barn',\n 'baron',\n 'baroni',\n 'barr',\n 'barrage',\n 'barred',\n 'barrettes',\n 'barricaded',\n 'barricades',\n 'barriers',\n 'barron',\n 'bars',\n 'bartenders',\n 'base',\n 'baseball',\n 'baseballs',\n 'based',\n 'basement',\n 'bases',\n 'bashar',\n 'bashing',\n 'basic',\n 'basically',\n 'basketball',\n 'basketballs',\n 'baskets',\n 'bass',\n 'baster',\n 'bat',\n 'bataclan',\n 'bath',\n 'bathe',\n 'bathing',\n 'bathrobe',\n 'bathroom',\n 'bathrooms',\n 'baths',\n 'bathtub',\n 'batman',\n 'batons',\n 'bats',\n 'batter',\n 'batteries',\n 'battery',\n 'battle',\n 'battled',\n 'battles',\n 'bazooka',\n 'bbc',\n 'bbq',\n 'be',\n 'beach',\n 'beaches',\n 'beacon',\n 'beagle',\n 'beagles',\n 'bean',\n 'beaner',\n 'beanies',\n 'beans',\n 'bear',\n 'beard',\n 'beards',\n 'bears',\n 'beast',\n 'beat',\n 'beaten',\n 'beating',\n 'beatings',\n 'beats',\n 'beau',\n 'beautiful',\n 'beautifying',\n 'beauty',\n 'beaver',\n 'beavers',\n 'became',\n 'because',\n 'become',\n 'becomes',\n 'becoming',\n 'bed',\n 'bedbugs',\n 'bedding',\n 'bedroom',\n 'beds',\n 'bedtime',\n 'bee',\n 'beef',\n 'been',\n 'beer',\n 'bees',\n 'beet',\n 'beetles',\n 'befell',\n 'before',\n 'befuddles',\n 'beg',\n 'began',\n 'begged',\n 'begging',\n 'beginning',\n 'begins',\n 'begs',\n 'begun',\n 'behalf',\n 'behavior',\n 'beheaded',\n 'beheading',\n 'behind',\n 'beijing',\n 'being',\n 'beitar',\n 'belching',\n 'belgian',\n 'believability',\n 'believe',\n 'believer',\n 'believers',\n 'believes',\n 'belittle',\n 'bellows',\n 'belly',\n 'beloved',\n 'below',\n 'ben',\n 'bench',\n 'benching',\n 'benchmark',\n 'bending',\n 'beneath',\n 'benefit',\n 'benefits',\n 'benghazi',\n 'benjamin',\n 'bennington',\n 'berating',\n 'berkeley',\n 'berkshire',\n 'berlin',\n 'bermuda',\n 'bernie',\n 'bernstein',\n 'berries',\n 'besides',\n 'besieged',\n 'best',\n 'bet',\n 'bethlehem',\n 'beto',\n 'betrayed',\n 'betrays',\n 'bets',\n 'betsy',\n 'better',\n 'betting',\n 'bettor',\n 'between',\n 'bewildered',\n 'beyond',\n 'bezos',\n 'bharara',\n 'bias',\n 'biceps',\n 'bicycle',\n 'bid',\n 'biden',\n 'bidet',\n 'bids',\n 'big',\n 'bigfoot',\n 'bigger',\n 'biggest',\n 'bigly',\n 'bigotry',\n 'bikes',\n 'bikini',\n 'bikinis',\n 'bilateral',\n 'bill',\n 'billboard',\n 'billion',\n 'billionaire',\n 'billionaires',\n 'billions',\n 'bills',\n 'billy',\n 'bin',\n 'bing',\n 'binge',\n 'bingo',\n 'binomo',\n 'biofuel',\n 'biology',\n 'biometric',\n 'bipartisan',\n 'bird',\n 'birdlime',\n 'birds',\n 'birth',\n 'birthday',\n 'birthdays',\n 'birthplace',\n 'biscuit',\n 'bishops',\n 'bit',\n 'bitch',\n 'bitcoin',\n 'bites',\n 'biting',\n 'bizarre',\n 'blabbering',\n 'black',\n 'blackjack',\n 'blackmail',\n 'blackmailed',\n 'blackstone',\n 'bladder',\n 'blair',\n 'blake',\n 'blame',\n 'blamed',\n 'blames',\n ...]"
     },
     "execution_count": 15,
     "metadata": {},
     "output_type": "execute_result"
    }
   ],
   "source": [
    "vectorizer = CountVectorizer()\n",
    "training_bags_of_words = vectorizer.fit_transform(training_dataset)\n",
    "validation_bag_of_words = vectorizer.transform(validation_dataset)\n",
    "vectorizer.get_feature_names()"
   ],
   "metadata": {
    "collapsed": false,
    "pycharm": {
     "name": "#%%\n"
    }
   }
  },
  {
   "cell_type": "code",
   "execution_count": 25,
   "outputs": [],
   "source": [
    "model = SVR(kernel='rbf', C=0.1)\n",
    "model = model.fit(training_bags_of_words, training_gradeset)\n",
    "predictions = model.predict(validation_bag_of_words)"
   ],
   "metadata": {
    "collapsed": false,
    "pycharm": {
     "name": "#%%\n"
    }
   }
  },
  {
   "cell_type": "code",
   "execution_count": 26,
   "outputs": [
    {
     "name": "stdout",
     "output_type": "stream",
     "text": [
      "| MSE: 0.33 | RMSE: 0.57 |\n"
     ]
    },
    {
     "data": {
      "text/plain": "(634.7940007193528, 0.32873847784534066)"
     },
     "execution_count": 26,
     "metadata": {},
     "output_type": "execute_result"
    }
   ],
   "source": [
    "model_performance(predictions, validation_gradeset, print_output=True)"
   ],
   "metadata": {
    "collapsed": false,
    "pycharm": {
     "name": "#%%\n"
    }
   }
  },
  {
   "cell_type": "code",
   "execution_count": 15,
   "outputs": [
    {
     "data": {
      "text/plain": "(2419, 10397)"
     },
     "execution_count": 15,
     "metadata": {},
     "output_type": "execute_result"
    }
   ],
   "source": [],
   "metadata": {
    "collapsed": false,
    "pycharm": {
     "name": "#%%\n"
    }
   }
  },
  {
   "cell_type": "code",
   "execution_count": null,
   "outputs": [],
   "source": [],
   "metadata": {
    "collapsed": false,
    "pycharm": {
     "name": "#%%\n"
    }
   }
  },
  {
   "cell_type": "code",
   "execution_count": null,
   "outputs": [],
   "source": [],
   "metadata": {
    "collapsed": false,
    "pycharm": {
     "name": "#%%\n"
    }
   }
  },
  {
   "cell_type": "code",
   "execution_count": null,
   "outputs": [],
   "source": [],
   "metadata": {
    "collapsed": false,
    "pycharm": {
     "name": "#%%\n"
    }
   }
  },
  {
   "cell_type": "code",
   "execution_count": null,
   "outputs": [],
   "source": [],
   "metadata": {
    "collapsed": false,
    "pycharm": {
     "name": "#%%\n"
    }
   }
  }
 ],
 "metadata": {
  "kernelspec": {
   "display_name": "Python 3",
   "language": "python",
   "name": "python3"
  },
  "language_info": {
   "codemirror_mode": {
    "name": "ipython",
    "version": 2
   },
   "file_extension": ".py",
   "mimetype": "text/x-python",
   "name": "python",
   "nbconvert_exporter": "python",
   "pygments_lexer": "ipython2",
   "version": "2.7.6"
  }
 },
 "nbformat": 4,
 "nbformat_minor": 0
}