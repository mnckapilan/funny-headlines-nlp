{
 "cells": [
  {
   "cell_type": "code",
   "execution_count": 1,
   "metadata": {
    "collapsed": true
   },
   "outputs": [],
   "source": [
    "from approach_1 import A1_FFNN_GloVe, A1_CNN_GloVe, A1_CNN_Concat_GloVe, preprocessing_experiment"
   ]
  },
  {
   "cell_type": "markdown",
   "source": [
    "## Approach 1\n",
    "Run each cell separately to view the training output of each experiment."
   ],
   "metadata": {
    "collapsed": false,
    "pycharm": {
     "name": "#%% md\n"
    }
   }
  },
  {
   "cell_type": "markdown",
   "source": [
    "### Preprocessing Experiment\n",
    "This experiment takes you through the pre-processing pipeline step by step and aims to reproduce\n",
    "the result shown in the diagram below.\n",
    "\n",
    "![image](https://i.ibb.co/7Sfywx5/preprocessing.png)\n",
    "\n",
    "The above diagram is run on GloVe 6B embeddings, but you can run it with GloVe Twitter embeddings as well by simply\n",
    "providing the path to the embeddings text file as shown below."
   ],
   "metadata": {
    "collapsed": false,
    "pycharm": {
     "name": "#%% md\n"
    }
   }
  },
  {
   "cell_type": "code",
   "execution_count": 2,
   "outputs": [
    {
     "name": "stdout",
     "output_type": "stream",
     "text": [
      "Words not found in GloVe Embeddings after - spliting on whitespace: 396\n",
      "Words not found in GloVe Embeddings after - splitting on hyphens: 216\n",
      "Words not found in GloVe Embeddings after - removing digits: 208\n",
      "Words not found in GloVe Embeddings after - removing stopwords: 208\n",
      "Words not found in GloVe Embeddings after - lemmatizing: 201\n",
      "Words not found in GloVe Embeddings after - stemming: 2243\n"
     ]
    }
   ],
   "source": [
    "preprocessing_experiment.run_this_experiment('model-downloads/glove.6B.50d.txt')"
   ],
   "metadata": {
    "collapsed": false,
    "pycharm": {
     "name": "#%%\n"
    }
   }
  },
  {
   "cell_type": "code",
   "source": [
    "# Uncomment this line if you have GloVe twitter embeddings downloaded.\n",
    "preprocessing_experiment.run_this_experiment('model-downloads/glove.twitter.27B/glove.twitter.27B.25d.txt')"
   ],
   "metadata": {
    "collapsed": false,
    "pycharm": {
     "name": "#%%\n"
    }
   },
   "execution_count": 3,
   "outputs": [
    {
     "name": "stdout",
     "output_type": "stream",
     "text": [
      "Words not found in GloVe Embeddings after - spliting on whitespace: 836\n",
      "Words not found in GloVe Embeddings after - splitting on hyphens: 617\n",
      "Words not found in GloVe Embeddings after - removing digits: 426\n",
      "Words not found in GloVe Embeddings after - removing stopwords: 426\n",
      "Words not found in GloVe Embeddings after - lemmatizing: 373\n",
      "Words not found in GloVe Embeddings after - stemming: 1646\n"
     ]
    }
   ]
  },
  {
   "cell_type": "markdown",
   "source": [
    "We first built a simple Feed Forward Neural Network using pretrained 100-dimensional GloVe embeddings.\n",
    "Our network was designed with an Embedding layer which would take the input headlines (in index form computed by\n",
    "converting words to indices) and would perform a lookup by using this index to get the corresponding GloVe vector.\n",
    "\n",
    "We account for the varying number of words in the input sentences by normalising our inputs with the sentence lengths.\n",
    "In our network we use 3 linear layers with ReLU activations followed by an output layer."
   ],
   "metadata": {
    "collapsed": false
   }
  },
  {
   "cell_type": "code",
   "source": [
    "A1_FFNN_GloVe.run_this_experiment()"
   ],
   "metadata": {
    "collapsed": false,
    "pycharm": {
     "name": "#%%\n"
    }
   },
   "execution_count": null,
   "outputs": []
  },
  {
   "cell_type": "markdown",
   "source": [
    "We then built CNN models and again make use of an embedding layer with the pre-trained GloVe embeddings.\n"
   ],
   "metadata": {
    "collapsed": false
   }
  },
  {
   "cell_type": "markdown",
   "source": [
    "We first use a simple CNN structure which consists of a 2D convolutional layer with ReLU activation.\n",
    "We consider 2 words at a time by using a 2 x 100 window size during convolution.\n",
    "This is followed by a 1D MaxPool on the feature map with dropout, then a fully connected layer with dropout and\n",
    "finally another fully connected layer."
   ],
   "metadata": {
    "collapsed": false,
    "pycharm": {
     "name": "#%% md\n"
    }
   }
  },
  {
   "cell_type": "code",
   "source": [
    "A1_CNN_GloVe.run_this_experiment()\n"
   ],
   "metadata": {
    "collapsed": false,
    "pycharm": {
     "name": "#%%\n"
    }
   },
   "execution_count": null,
   "outputs": []
  },
  {
   "cell_type": "markdown",
   "source": [
    "Another more complicated CNN was built which utilised parallel convolutions and GloVe.\n",
    "We took 3 convolutions in parallel (i.e. each one on the original input vector) of varying window sizes considering\n",
    "different number of words. Each parallel branch was followed by a ReLU activation and then a 1D Max Pool operation.\n",
    "The 3 parallel outputs were then concatenated into 1 tensor with dropout.\n",
    "This was passed into a fully connected layer with dropout and then a second fully connected layer."
   ],
   "metadata": {
    "collapsed": false,
    "pycharm": {
     "name": "#%% md\n"
    }
   }
  },
  {
   "cell_type": "code",
   "execution_count": 2,
   "outputs": [
    {
     "name": "stdout",
     "output_type": "stream",
     "text": [
      "Training model.\n",
      "| Epoch: 01 | Train Loss: 0.41 | Train MSE: 0.41 | Train RMSE: 0.64 |         Val. Loss: 0.32 | Val. MSE: 0.32 |  Val. RMSE: 0.57 |\n",
      "| Epoch: 02 | Train Loss: 0.34 | Train MSE: 0.34 | Train RMSE: 0.58 |         Val. Loss: 0.31 | Val. MSE: 0.31 |  Val. RMSE: 0.56 |\n",
      "| Epoch: 03 | Train Loss: 0.32 | Train MSE: 0.32 | Train RMSE: 0.57 |         Val. Loss: 0.31 | Val. MSE: 0.31 |  Val. RMSE: 0.56 |\n",
      "| Epoch: 04 | Train Loss: 0.32 | Train MSE: 0.32 | Train RMSE: 0.56 |         Val. Loss: 0.31 | Val. MSE: 0.31 |  Val. RMSE: 0.56 |\n",
      "| Epoch: 05 | Train Loss: 0.31 | Train MSE: 0.31 | Train RMSE: 0.55 |         Val. Loss: 0.32 | Val. MSE: 0.32 |  Val. RMSE: 0.57 |\n",
      "| Epoch: 06 | Train Loss: 0.31 | Train MSE: 0.31 | Train RMSE: 0.55 |         Val. Loss: 0.31 | Val. MSE: 0.31 |  Val. RMSE: 0.56 |\n",
      "| Epoch: 07 | Train Loss: 0.29 | Train MSE: 0.29 | Train RMSE: 0.54 |         Val. Loss: 0.32 | Val. MSE: 0.32 |  Val. RMSE: 0.56 |\n",
      "| Epoch: 08 | Train Loss: 0.29 | Train MSE: 0.29 | Train RMSE: 0.53 |         Val. Loss: 0.32 | Val. MSE: 0.32 |  Val. RMSE: 0.56 |\n",
      "| Epoch: 09 | Train Loss: 0.28 | Train MSE: 0.28 | Train RMSE: 0.53 |         Val. Loss: 0.32 | Val. MSE: 0.32 |  Val. RMSE: 0.57 |\n",
      "| Epoch: 10 | Train Loss: 0.27 | Train MSE: 0.27 | Train RMSE: 0.52 |         Val. Loss: 0.32 | Val. MSE: 0.32 |  Val. RMSE: 0.57 |\n",
      "| Epoch: 11 | Train Loss: 0.27 | Train MSE: 0.27 | Train RMSE: 0.52 |         Val. Loss: 0.32 | Val. MSE: 0.32 |  Val. RMSE: 0.57 |\n",
      "| Epoch: 12 | Train Loss: 0.26 | Train MSE: 0.26 | Train RMSE: 0.51 |         Val. Loss: 0.32 | Val. MSE: 0.32 |  Val. RMSE: 0.57 |\n",
      "| Epoch: 13 | Train Loss: 0.26 | Train MSE: 0.26 | Train RMSE: 0.51 |         Val. Loss: 0.33 | Val. MSE: 0.33 |  Val. RMSE: 0.57 |\n",
      "| Epoch: 14 | Train Loss: 0.25 | Train MSE: 0.25 | Train RMSE: 0.50 |         Val. Loss: 0.33 | Val. MSE: 0.33 |  Val. RMSE: 0.57 |\n",
      "| Epoch: 15 | Train Loss: 0.25 | Train MSE: 0.25 | Train RMSE: 0.50 |         Val. Loss: 0.33 | Val. MSE: 0.33 |  Val. RMSE: 0.58 |\n",
      "| Epoch: 16 | Train Loss: 0.25 | Train MSE: 0.25 | Train RMSE: 0.50 |         Val. Loss: 0.33 | Val. MSE: 0.33 |  Val. RMSE: 0.58 |\n",
      "| Epoch: 17 | Train Loss: 0.24 | Train MSE: 0.24 | Train RMSE: 0.49 |         Val. Loss: 0.34 | Val. MSE: 0.34 |  Val. RMSE: 0.58 |\n",
      "| Epoch: 18 | Train Loss: 0.24 | Train MSE: 0.24 | Train RMSE: 0.49 |         Val. Loss: 0.34 | Val. MSE: 0.34 |  Val. RMSE: 0.58 |\n",
      "| Epoch: 19 | Train Loss: 0.24 | Train MSE: 0.24 | Train RMSE: 0.49 |         Val. Loss: 0.34 | Val. MSE: 0.34 |  Val. RMSE: 0.58 |\n",
      "| Epoch: 20 | Train Loss: 0.24 | Train MSE: 0.24 | Train RMSE: 0.49 |         Val. Loss: 0.34 | Val. MSE: 0.34 |  Val. RMSE: 0.59 |\n",
      "| Epoch: 21 | Train Loss: 0.23 | Train MSE: 0.23 | Train RMSE: 0.48 |         Val. Loss: 0.34 | Val. MSE: 0.34 |  Val. RMSE: 0.58 |\n",
      "| Epoch: 22 | Train Loss: 0.23 | Train MSE: 0.23 | Train RMSE: 0.48 |         Val. Loss: 0.34 | Val. MSE: 0.34 |  Val. RMSE: 0.59 |\n",
      "| Epoch: 23 | Train Loss: 0.23 | Train MSE: 0.23 | Train RMSE: 0.48 |         Val. Loss: 0.35 | Val. MSE: 0.35 |  Val. RMSE: 0.59 |\n",
      "| Epoch: 24 | Train Loss: 0.23 | Train MSE: 0.23 | Train RMSE: 0.48 |         Val. Loss: 0.35 | Val. MSE: 0.35 |  Val. RMSE: 0.59 |\n",
      "| Epoch: 25 | Train Loss: 0.23 | Train MSE: 0.23 | Train RMSE: 0.47 |         Val. Loss: 0.35 | Val. MSE: 0.35 |  Val. RMSE: 0.59 |\n",
      "| Epoch: 26 | Train Loss: 0.23 | Train MSE: 0.23 | Train RMSE: 0.48 |         Val. Loss: 0.35 | Val. MSE: 0.35 |  Val. RMSE: 0.59 |\n",
      "| Epoch: 27 | Train Loss: 0.23 | Train MSE: 0.23 | Train RMSE: 0.47 |         Val. Loss: 0.35 | Val. MSE: 0.35 |  Val. RMSE: 0.59 |\n",
      "| Epoch: 28 | Train Loss: 0.22 | Train MSE: 0.22 | Train RMSE: 0.47 |         Val. Loss: 0.35 | Val. MSE: 0.35 |  Val. RMSE: 0.59 |\n",
      "| Epoch: 29 | Train Loss: 0.22 | Train MSE: 0.22 | Train RMSE: 0.47 |         Val. Loss: 0.35 | Val. MSE: 0.35 |  Val. RMSE: 0.59 |\n",
      "| Epoch: 30 | Train Loss: 0.22 | Train MSE: 0.22 | Train RMSE: 0.47 |         Val. Loss: 0.35 | Val. MSE: 0.35 |  Val. RMSE: 0.59 |\n",
      "| Epoch: 31 | Train Loss: 0.22 | Train MSE: 0.22 | Train RMSE: 0.47 |         Val. Loss: 0.35 | Val. MSE: 0.35 |  Val. RMSE: 0.59 |\n",
      "| Epoch: 32 | Train Loss: 0.22 | Train MSE: 0.22 | Train RMSE: 0.47 |         Val. Loss: 0.36 | Val. MSE: 0.36 |  Val. RMSE: 0.60 |\n",
      "| Epoch: 33 | Train Loss: 0.22 | Train MSE: 0.22 | Train RMSE: 0.47 |         Val. Loss: 0.36 | Val. MSE: 0.36 |  Val. RMSE: 0.60 |\n",
      "| Epoch: 34 | Train Loss: 0.22 | Train MSE: 0.22 | Train RMSE: 0.47 |         Val. Loss: 0.36 | Val. MSE: 0.36 |  Val. RMSE: 0.60 |\n",
      "| Epoch: 35 | Train Loss: 0.22 | Train MSE: 0.22 | Train RMSE: 0.46 |         Val. Loss: 0.35 | Val. MSE: 0.35 |  Val. RMSE: 0.59 |\n",
      "| Epoch: 36 | Train Loss: 0.22 | Train MSE: 0.22 | Train RMSE: 0.47 |         Val. Loss: 0.35 | Val. MSE: 0.35 |  Val. RMSE: 0.59 |\n",
      "| Epoch: 37 | Train Loss: 0.21 | Train MSE: 0.21 | Train RMSE: 0.46 |         Val. Loss: 0.35 | Val. MSE: 0.35 |  Val. RMSE: 0.60 |\n",
      "| Epoch: 38 | Train Loss: 0.21 | Train MSE: 0.21 | Train RMSE: 0.46 |         Val. Loss: 0.36 | Val. MSE: 0.36 |  Val. RMSE: 0.60 |\n",
      "| Epoch: 39 | Train Loss: 0.21 | Train MSE: 0.21 | Train RMSE: 0.46 |         Val. Loss: 0.36 | Val. MSE: 0.36 |  Val. RMSE: 0.60 |\n",
      "| Epoch: 40 | Train Loss: 0.21 | Train MSE: 0.21 | Train RMSE: 0.46 |         Val. Loss: 0.36 | Val. MSE: 0.36 |  Val. RMSE: 0.60 |\n",
      "| Epoch: 41 | Train Loss: 0.21 | Train MSE: 0.21 | Train RMSE: 0.46 |         Val. Loss: 0.35 | Val. MSE: 0.35 |  Val. RMSE: 0.59 |\n",
      "| Epoch: 42 | Train Loss: 0.21 | Train MSE: 0.21 | Train RMSE: 0.46 |         Val. Loss: 0.36 | Val. MSE: 0.36 |  Val. RMSE: 0.60 |\n",
      "| Epoch: 43 | Train Loss: 0.21 | Train MSE: 0.21 | Train RMSE: 0.46 |         Val. Loss: 0.36 | Val. MSE: 0.36 |  Val. RMSE: 0.60 |\n",
      "| Epoch: 44 | Train Loss: 0.21 | Train MSE: 0.21 | Train RMSE: 0.46 |         Val. Loss: 0.35 | Val. MSE: 0.35 |  Val. RMSE: 0.59 |\n",
      "| Epoch: 45 | Train Loss: 0.21 | Train MSE: 0.21 | Train RMSE: 0.46 |         Val. Loss: 0.36 | Val. MSE: 0.36 |  Val. RMSE: 0.60 |\n",
      "| Epoch: 46 | Train Loss: 0.21 | Train MSE: 0.21 | Train RMSE: 0.45 |         Val. Loss: 0.37 | Val. MSE: 0.37 |  Val. RMSE: 0.61 |\n",
      "| Epoch: 47 | Train Loss: 0.21 | Train MSE: 0.21 | Train RMSE: 0.46 |         Val. Loss: 0.37 | Val. MSE: 0.37 |  Val. RMSE: 0.61 |\n",
      "| Epoch: 48 | Train Loss: 0.21 | Train MSE: 0.21 | Train RMSE: 0.45 |         Val. Loss: 0.37 | Val. MSE: 0.37 |  Val. RMSE: 0.61 |\n",
      "| Epoch: 49 | Train Loss: 0.20 | Train MSE: 0.20 | Train RMSE: 0.45 |         Val. Loss: 0.36 | Val. MSE: 0.36 |  Val. RMSE: 0.60 |\n",
      "| Epoch: 50 | Train Loss: 0.20 | Train MSE: 0.20 | Train RMSE: 0.45 |         Val. Loss: 0.36 | Val. MSE: 0.36 |  Val. RMSE: 0.60 |\n",
      "| Epoch: 51 | Train Loss: 0.20 | Train MSE: 0.20 | Train RMSE: 0.45 |         Val. Loss: 0.36 | Val. MSE: 0.36 |  Val. RMSE: 0.60 |\n",
      "| Epoch: 52 | Train Loss: 0.20 | Train MSE: 0.20 | Train RMSE: 0.45 |         Val. Loss: 0.36 | Val. MSE: 0.36 |  Val. RMSE: 0.60 |\n",
      "| Epoch: 53 | Train Loss: 0.20 | Train MSE: 0.20 | Train RMSE: 0.45 |         Val. Loss: 0.37 | Val. MSE: 0.37 |  Val. RMSE: 0.61 |\n",
      "| Epoch: 54 | Train Loss: 0.20 | Train MSE: 0.20 | Train RMSE: 0.45 |         Val. Loss: 0.37 | Val. MSE: 0.37 |  Val. RMSE: 0.61 |\n",
      "| Epoch: 55 | Train Loss: 0.21 | Train MSE: 0.21 | Train RMSE: 0.45 |         Val. Loss: 0.37 | Val. MSE: 0.37 |  Val. RMSE: 0.61 |\n",
      "| Epoch: 56 | Train Loss: 0.20 | Train MSE: 0.20 | Train RMSE: 0.45 |         Val. Loss: 0.37 | Val. MSE: 0.37 |  Val. RMSE: 0.61 |\n",
      "| Epoch: 57 | Train Loss: 0.20 | Train MSE: 0.20 | Train RMSE: 0.44 |         Val. Loss: 0.37 | Val. MSE: 0.37 |  Val. RMSE: 0.61 |\n",
      "| Epoch: 58 | Train Loss: 0.21 | Train MSE: 0.21 | Train RMSE: 0.45 |         Val. Loss: 0.36 | Val. MSE: 0.36 |  Val. RMSE: 0.60 |\n",
      "| Epoch: 59 | Train Loss: 0.20 | Train MSE: 0.20 | Train RMSE: 0.45 |         Val. Loss: 0.37 | Val. MSE: 0.37 |  Val. RMSE: 0.61 |\n",
      "| Epoch: 60 | Train Loss: 0.20 | Train MSE: 0.20 | Train RMSE: 0.45 |         Val. Loss: 0.36 | Val. MSE: 0.36 |  Val. RMSE: 0.60 |\n",
      "| Epoch: 61 | Train Loss: 0.20 | Train MSE: 0.20 | Train RMSE: 0.45 |         Val. Loss: 0.36 | Val. MSE: 0.36 |  Val. RMSE: 0.60 |\n",
      "| Epoch: 62 | Train Loss: 0.20 | Train MSE: 0.20 | Train RMSE: 0.44 |         Val. Loss: 0.37 | Val. MSE: 0.37 |  Val. RMSE: 0.61 |\n",
      "| Epoch: 63 | Train Loss: 0.20 | Train MSE: 0.20 | Train RMSE: 0.45 |         Val. Loss: 0.38 | Val. MSE: 0.38 |  Val. RMSE: 0.61 |\n",
      "| Epoch: 64 | Train Loss: 0.20 | Train MSE: 0.20 | Train RMSE: 0.45 |         Val. Loss: 0.36 | Val. MSE: 0.36 |  Val. RMSE: 0.60 |\n",
      "| Epoch: 65 | Train Loss: 0.20 | Train MSE: 0.20 | Train RMSE: 0.45 |         Val. Loss: 0.37 | Val. MSE: 0.37 |  Val. RMSE: 0.61 |\n",
      "| Epoch: 66 | Train Loss: 0.20 | Train MSE: 0.20 | Train RMSE: 0.44 |         Val. Loss: 0.37 | Val. MSE: 0.37 |  Val. RMSE: 0.61 |\n",
      "| Epoch: 67 | Train Loss: 0.20 | Train MSE: 0.20 | Train RMSE: 0.45 |         Val. Loss: 0.36 | Val. MSE: 0.36 |  Val. RMSE: 0.60 |\n",
      "| Epoch: 68 | Train Loss: 0.20 | Train MSE: 0.20 | Train RMSE: 0.44 |         Val. Loss: 0.36 | Val. MSE: 0.36 |  Val. RMSE: 0.60 |\n",
      "| Epoch: 69 | Train Loss: 0.19 | Train MSE: 0.19 | Train RMSE: 0.44 |         Val. Loss: 0.37 | Val. MSE: 0.37 |  Val. RMSE: 0.61 |\n",
      "| Epoch: 70 | Train Loss: 0.19 | Train MSE: 0.19 | Train RMSE: 0.44 |         Val. Loss: 0.37 | Val. MSE: 0.37 |  Val. RMSE: 0.60 |\n",
      "| Epoch: 71 | Train Loss: 0.20 | Train MSE: 0.20 | Train RMSE: 0.44 |         Val. Loss: 0.36 | Val. MSE: 0.36 |  Val. RMSE: 0.60 |\n",
      "| Epoch: 72 | Train Loss: 0.19 | Train MSE: 0.19 | Train RMSE: 0.44 |         Val. Loss: 0.37 | Val. MSE: 0.37 |  Val. RMSE: 0.61 |\n",
      "| Epoch: 73 | Train Loss: 0.19 | Train MSE: 0.19 | Train RMSE: 0.44 |         Val. Loss: 0.37 | Val. MSE: 0.37 |  Val. RMSE: 0.61 |\n",
      "| Epoch: 74 | Train Loss: 0.20 | Train MSE: 0.20 | Train RMSE: 0.44 |         Val. Loss: 0.38 | Val. MSE: 0.38 |  Val. RMSE: 0.61 |\n",
      "| Epoch: 75 | Train Loss: 0.19 | Train MSE: 0.19 | Train RMSE: 0.44 |         Val. Loss: 0.37 | Val. MSE: 0.37 |  Val. RMSE: 0.61 |\n",
      "| Epoch: 76 | Train Loss: 0.19 | Train MSE: 0.19 | Train RMSE: 0.44 |         Val. Loss: 0.37 | Val. MSE: 0.37 |  Val. RMSE: 0.61 |\n",
      "| Epoch: 77 | Train Loss: 0.19 | Train MSE: 0.19 | Train RMSE: 0.44 |         Val. Loss: 0.39 | Val. MSE: 0.39 |  Val. RMSE: 0.62 |\n",
      "| Epoch: 78 | Train Loss: 0.20 | Train MSE: 0.20 | Train RMSE: 0.45 |         Val. Loss: 0.38 | Val. MSE: 0.38 |  Val. RMSE: 0.62 |\n",
      "| Epoch: 79 | Train Loss: 0.20 | Train MSE: 0.20 | Train RMSE: 0.44 |         Val. Loss: 0.38 | Val. MSE: 0.38 |  Val. RMSE: 0.61 |\n",
      "| Epoch: 80 | Train Loss: 0.19 | Train MSE: 0.19 | Train RMSE: 0.44 |         Val. Loss: 0.38 | Val. MSE: 0.38 |  Val. RMSE: 0.62 |\n",
      "| Epoch: 81 | Train Loss: 0.19 | Train MSE: 0.19 | Train RMSE: 0.44 |         Val. Loss: 0.38 | Val. MSE: 0.38 |  Val. RMSE: 0.61 |\n",
      "| Epoch: 82 | Train Loss: 0.19 | Train MSE: 0.19 | Train RMSE: 0.44 |         Val. Loss: 0.37 | Val. MSE: 0.37 |  Val. RMSE: 0.61 |\n",
      "| Epoch: 83 | Train Loss: 0.19 | Train MSE: 0.19 | Train RMSE: 0.44 |         Val. Loss: 0.37 | Val. MSE: 0.37 |  Val. RMSE: 0.61 |\n",
      "| Epoch: 84 | Train Loss: 0.19 | Train MSE: 0.19 | Train RMSE: 0.44 |         Val. Loss: 0.39 | Val. MSE: 0.39 |  Val. RMSE: 0.62 |\n",
      "| Epoch: 85 | Train Loss: 0.19 | Train MSE: 0.19 | Train RMSE: 0.44 |         Val. Loss: 0.38 | Val. MSE: 0.38 |  Val. RMSE: 0.62 |\n",
      "| Epoch: 86 | Train Loss: 0.19 | Train MSE: 0.19 | Train RMSE: 0.43 |         Val. Loss: 0.39 | Val. MSE: 0.39 |  Val. RMSE: 0.62 |\n",
      "| Epoch: 87 | Train Loss: 0.19 | Train MSE: 0.19 | Train RMSE: 0.44 |         Val. Loss: 0.38 | Val. MSE: 0.38 |  Val. RMSE: 0.62 |\n",
      "| Epoch: 88 | Train Loss: 0.19 | Train MSE: 0.19 | Train RMSE: 0.44 |         Val. Loss: 0.38 | Val. MSE: 0.38 |  Val. RMSE: 0.61 |\n",
      "| Epoch: 89 | Train Loss: 0.19 | Train MSE: 0.19 | Train RMSE: 0.43 |         Val. Loss: 0.38 | Val. MSE: 0.38 |  Val. RMSE: 0.62 |\n",
      "| Epoch: 90 | Train Loss: 0.19 | Train MSE: 0.19 | Train RMSE: 0.43 |         Val. Loss: 0.38 | Val. MSE: 0.38 |  Val. RMSE: 0.61 |\n",
      "| Epoch: 91 | Train Loss: 0.18 | Train MSE: 0.18 | Train RMSE: 0.43 |         Val. Loss: 0.38 | Val. MSE: 0.38 |  Val. RMSE: 0.62 |\n",
      "| Epoch: 92 | Train Loss: 0.19 | Train MSE: 0.19 | Train RMSE: 0.43 |         Val. Loss: 0.38 | Val. MSE: 0.38 |  Val. RMSE: 0.62 |\n",
      "| Epoch: 93 | Train Loss: 0.19 | Train MSE: 0.19 | Train RMSE: 0.44 |         Val. Loss: 0.38 | Val. MSE: 0.38 |  Val. RMSE: 0.61 |\n",
      "| Epoch: 94 | Train Loss: 0.19 | Train MSE: 0.19 | Train RMSE: 0.43 |         Val. Loss: 0.39 | Val. MSE: 0.39 |  Val. RMSE: 0.62 |\n",
      "| Epoch: 95 | Train Loss: 0.19 | Train MSE: 0.19 | Train RMSE: 0.43 |         Val. Loss: 0.38 | Val. MSE: 0.38 |  Val. RMSE: 0.62 |\n",
      "| Epoch: 96 | Train Loss: 0.19 | Train MSE: 0.19 | Train RMSE: 0.43 |         Val. Loss: 0.38 | Val. MSE: 0.38 |  Val. RMSE: 0.61 |\n",
      "| Epoch: 97 | Train Loss: 0.19 | Train MSE: 0.19 | Train RMSE: 0.43 |         Val. Loss: 0.37 | Val. MSE: 0.37 |  Val. RMSE: 0.61 |\n",
      "| Epoch: 98 | Train Loss: 0.19 | Train MSE: 0.19 | Train RMSE: 0.44 |         Val. Loss: 0.38 | Val. MSE: 0.38 |  Val. RMSE: 0.61 |\n",
      "| Epoch: 99 | Train Loss: 0.19 | Train MSE: 0.19 | Train RMSE: 0.43 |         Val. Loss: 0.37 | Val. MSE: 0.37 |  Val. RMSE: 0.61 |\n",
      "| Epoch: 100 | Train Loss: 0.19 | Train MSE: 0.19 | Train RMSE: 0.43 |         Val. Loss: 0.37 | Val. MSE: 0.37 |  Val. RMSE: 0.61 |\n",
      "| Epoch: 101 | Train Loss: 0.19 | Train MSE: 0.19 | Train RMSE: 0.43 |         Val. Loss: 0.37 | Val. MSE: 0.37 |  Val. RMSE: 0.61 |\n",
      "| Epoch: 102 | Train Loss: 0.18 | Train MSE: 0.18 | Train RMSE: 0.43 |         Val. Loss: 0.37 | Val. MSE: 0.37 |  Val. RMSE: 0.61 |\n",
      "| Epoch: 103 | Train Loss: 0.18 | Train MSE: 0.18 | Train RMSE: 0.43 |         Val. Loss: 0.37 | Val. MSE: 0.37 |  Val. RMSE: 0.61 |\n",
      "| Epoch: 104 | Train Loss: 0.18 | Train MSE: 0.18 | Train RMSE: 0.43 |         Val. Loss: 0.38 | Val. MSE: 0.38 |  Val. RMSE: 0.62 |\n",
      "| Epoch: 105 | Train Loss: 0.18 | Train MSE: 0.18 | Train RMSE: 0.43 |         Val. Loss: 0.37 | Val. MSE: 0.37 |  Val. RMSE: 0.61 |\n",
      "| Epoch: 106 | Train Loss: 0.18 | Train MSE: 0.18 | Train RMSE: 0.43 |         Val. Loss: 0.37 | Val. MSE: 0.37 |  Val. RMSE: 0.61 |\n",
      "| Epoch: 107 | Train Loss: 0.19 | Train MSE: 0.19 | Train RMSE: 0.43 |         Val. Loss: 0.37 | Val. MSE: 0.37 |  Val. RMSE: 0.61 |\n",
      "| Epoch: 108 | Train Loss: 0.19 | Train MSE: 0.19 | Train RMSE: 0.43 |         Val. Loss: 0.37 | Val. MSE: 0.37 |  Val. RMSE: 0.61 |\n",
      "| Epoch: 109 | Train Loss: 0.18 | Train MSE: 0.18 | Train RMSE: 0.43 |         Val. Loss: 0.37 | Val. MSE: 0.37 |  Val. RMSE: 0.61 |\n",
      "| Epoch: 110 | Train Loss: 0.18 | Train MSE: 0.18 | Train RMSE: 0.43 |         Val. Loss: 0.38 | Val. MSE: 0.38 |  Val. RMSE: 0.61 |\n",
      "| Epoch: 111 | Train Loss: 0.18 | Train MSE: 0.18 | Train RMSE: 0.43 |         Val. Loss: 0.37 | Val. MSE: 0.37 |  Val. RMSE: 0.61 |\n",
      "| Epoch: 112 | Train Loss: 0.18 | Train MSE: 0.18 | Train RMSE: 0.43 |         Val. Loss: 0.38 | Val. MSE: 0.38 |  Val. RMSE: 0.61 |\n",
      "| Epoch: 113 | Train Loss: 0.18 | Train MSE: 0.18 | Train RMSE: 0.43 |         Val. Loss: 0.38 | Val. MSE: 0.38 |  Val. RMSE: 0.61 |\n",
      "| Epoch: 114 | Train Loss: 0.18 | Train MSE: 0.18 | Train RMSE: 0.43 |         Val. Loss: 0.38 | Val. MSE: 0.38 |  Val. RMSE: 0.61 |\n",
      "| Epoch: 115 | Train Loss: 0.18 | Train MSE: 0.18 | Train RMSE: 0.43 |         Val. Loss: 0.38 | Val. MSE: 0.38 |  Val. RMSE: 0.61 |\n",
      "| Epoch: 116 | Train Loss: 0.19 | Train MSE: 0.19 | Train RMSE: 0.43 |         Val. Loss: 0.40 | Val. MSE: 0.40 |  Val. RMSE: 0.63 |\n",
      "| Epoch: 117 | Train Loss: 0.18 | Train MSE: 0.18 | Train RMSE: 0.43 |         Val. Loss: 0.38 | Val. MSE: 0.38 |  Val. RMSE: 0.61 |\n",
      "| Epoch: 118 | Train Loss: 0.18 | Train MSE: 0.18 | Train RMSE: 0.43 |         Val. Loss: 0.37 | Val. MSE: 0.37 |  Val. RMSE: 0.61 |\n",
      "| Epoch: 119 | Train Loss: 0.18 | Train MSE: 0.18 | Train RMSE: 0.43 |         Val. Loss: 0.37 | Val. MSE: 0.37 |  Val. RMSE: 0.61 |\n",
      "| Epoch: 120 | Train Loss: 0.18 | Train MSE: 0.18 | Train RMSE: 0.42 |         Val. Loss: 0.38 | Val. MSE: 0.38 |  Val. RMSE: 0.62 |\n",
      "| Epoch: 121 | Train Loss: 0.18 | Train MSE: 0.18 | Train RMSE: 0.43 |         Val. Loss: 0.38 | Val. MSE: 0.38 |  Val. RMSE: 0.61 |\n",
      "| Epoch: 122 | Train Loss: 0.18 | Train MSE: 0.18 | Train RMSE: 0.43 |         Val. Loss: 0.37 | Val. MSE: 0.37 |  Val. RMSE: 0.61 |\n",
      "| Epoch: 123 | Train Loss: 0.18 | Train MSE: 0.18 | Train RMSE: 0.43 |         Val. Loss: 0.38 | Val. MSE: 0.38 |  Val. RMSE: 0.61 |\n",
      "| Epoch: 124 | Train Loss: 0.18 | Train MSE: 0.18 | Train RMSE: 0.42 |         Val. Loss: 0.38 | Val. MSE: 0.38 |  Val. RMSE: 0.61 |\n",
      "| Epoch: 125 | Train Loss: 0.18 | Train MSE: 0.18 | Train RMSE: 0.42 |         Val. Loss: 0.40 | Val. MSE: 0.40 |  Val. RMSE: 0.63 |\n",
      "| Epoch: 126 | Train Loss: 0.18 | Train MSE: 0.18 | Train RMSE: 0.43 |         Val. Loss: 0.39 | Val. MSE: 0.39 |  Val. RMSE: 0.63 |\n",
      "| Epoch: 127 | Train Loss: 0.18 | Train MSE: 0.18 | Train RMSE: 0.43 |         Val. Loss: 0.37 | Val. MSE: 0.37 |  Val. RMSE: 0.61 |\n",
      "| Epoch: 128 | Train Loss: 0.18 | Train MSE: 0.18 | Train RMSE: 0.43 |         Val. Loss: 0.39 | Val. MSE: 0.39 |  Val. RMSE: 0.62 |\n",
      "| Epoch: 129 | Train Loss: 0.18 | Train MSE: 0.18 | Train RMSE: 0.43 |         Val. Loss: 0.37 | Val. MSE: 0.37 |  Val. RMSE: 0.61 |\n",
      "| Epoch: 130 | Train Loss: 0.18 | Train MSE: 0.18 | Train RMSE: 0.42 |         Val. Loss: 0.37 | Val. MSE: 0.37 |  Val. RMSE: 0.61 |\n",
      "| Epoch: 131 | Train Loss: 0.18 | Train MSE: 0.18 | Train RMSE: 0.42 |         Val. Loss: 0.39 | Val. MSE: 0.39 |  Val. RMSE: 0.62 |\n",
      "| Epoch: 132 | Train Loss: 0.18 | Train MSE: 0.18 | Train RMSE: 0.42 |         Val. Loss: 0.38 | Val. MSE: 0.38 |  Val. RMSE: 0.62 |\n",
      "| Epoch: 133 | Train Loss: 0.19 | Train MSE: 0.19 | Train RMSE: 0.43 |         Val. Loss: 0.38 | Val. MSE: 0.38 |  Val. RMSE: 0.62 |\n",
      "| Epoch: 134 | Train Loss: 0.18 | Train MSE: 0.18 | Train RMSE: 0.42 |         Val. Loss: 0.38 | Val. MSE: 0.38 |  Val. RMSE: 0.62 |\n",
      "| Epoch: 135 | Train Loss: 0.18 | Train MSE: 0.18 | Train RMSE: 0.42 |         Val. Loss: 0.38 | Val. MSE: 0.38 |  Val. RMSE: 0.62 |\n",
      "| Epoch: 136 | Train Loss: 0.18 | Train MSE: 0.18 | Train RMSE: 0.42 |         Val. Loss: 0.39 | Val. MSE: 0.39 |  Val. RMSE: 0.63 |\n",
      "| Epoch: 137 | Train Loss: 0.18 | Train MSE: 0.18 | Train RMSE: 0.42 |         Val. Loss: 0.39 | Val. MSE: 0.39 |  Val. RMSE: 0.62 |\n",
      "| Epoch: 138 | Train Loss: 0.18 | Train MSE: 0.18 | Train RMSE: 0.42 |         Val. Loss: 0.38 | Val. MSE: 0.38 |  Val. RMSE: 0.62 |\n",
      "| Epoch: 139 | Train Loss: 0.18 | Train MSE: 0.18 | Train RMSE: 0.43 |         Val. Loss: 0.38 | Val. MSE: 0.38 |  Val. RMSE: 0.61 |\n",
      "| Epoch: 140 | Train Loss: 0.18 | Train MSE: 0.18 | Train RMSE: 0.42 |         Val. Loss: 0.38 | Val. MSE: 0.38 |  Val. RMSE: 0.61 |\n",
      "| Epoch: 141 | Train Loss: 0.18 | Train MSE: 0.18 | Train RMSE: 0.42 |         Val. Loss: 0.40 | Val. MSE: 0.40 |  Val. RMSE: 0.63 |\n",
      "| Epoch: 142 | Train Loss: 0.18 | Train MSE: 0.18 | Train RMSE: 0.43 |         Val. Loss: 0.37 | Val. MSE: 0.37 |  Val. RMSE: 0.61 |\n",
      "| Epoch: 143 | Train Loss: 0.18 | Train MSE: 0.18 | Train RMSE: 0.42 |         Val. Loss: 0.39 | Val. MSE: 0.39 |  Val. RMSE: 0.63 |\n",
      "| Epoch: 144 | Train Loss: 0.18 | Train MSE: 0.18 | Train RMSE: 0.42 |         Val. Loss: 0.38 | Val. MSE: 0.38 |  Val. RMSE: 0.62 |\n",
      "| Epoch: 145 | Train Loss: 0.18 | Train MSE: 0.18 | Train RMSE: 0.42 |         Val. Loss: 0.39 | Val. MSE: 0.39 |  Val. RMSE: 0.62 |\n",
      "| Epoch: 146 | Train Loss: 0.18 | Train MSE: 0.18 | Train RMSE: 0.42 |         Val. Loss: 0.38 | Val. MSE: 0.38 |  Val. RMSE: 0.62 |\n",
      "| Epoch: 147 | Train Loss: 0.18 | Train MSE: 0.18 | Train RMSE: 0.42 |         Val. Loss: 0.37 | Val. MSE: 0.37 |  Val. RMSE: 0.61 |\n",
      "| Epoch: 148 | Train Loss: 0.18 | Train MSE: 0.18 | Train RMSE: 0.42 |         Val. Loss: 0.39 | Val. MSE: 0.39 |  Val. RMSE: 0.63 |\n",
      "| Epoch: 149 | Train Loss: 0.17 | Train MSE: 0.17 | Train RMSE: 0.42 |         Val. Loss: 0.39 | Val. MSE: 0.39 |  Val. RMSE: 0.63 |\n",
      "| Epoch: 150 | Train Loss: 0.18 | Train MSE: 0.18 | Train RMSE: 0.42 |         Val. Loss: 0.38 | Val. MSE: 0.38 |  Val. RMSE: 0.62 |\n",
      "| Epoch: 151 | Train Loss: 0.18 | Train MSE: 0.18 | Train RMSE: 0.42 |         Val. Loss: 0.40 | Val. MSE: 0.40 |  Val. RMSE: 0.63 |\n",
      "| Epoch: 152 | Train Loss: 0.18 | Train MSE: 0.18 | Train RMSE: 0.42 |         Val. Loss: 0.38 | Val. MSE: 0.38 |  Val. RMSE: 0.62 |\n",
      "| Epoch: 153 | Train Loss: 0.18 | Train MSE: 0.18 | Train RMSE: 0.42 |         Val. Loss: 0.39 | Val. MSE: 0.39 |  Val. RMSE: 0.62 |\n",
      "| Epoch: 154 | Train Loss: 0.18 | Train MSE: 0.18 | Train RMSE: 0.42 |         Val. Loss: 0.38 | Val. MSE: 0.38 |  Val. RMSE: 0.62 |\n",
      "| Epoch: 155 | Train Loss: 0.18 | Train MSE: 0.18 | Train RMSE: 0.42 |         Val. Loss: 0.38 | Val. MSE: 0.38 |  Val. RMSE: 0.62 |\n",
      "| Epoch: 156 | Train Loss: 0.18 | Train MSE: 0.18 | Train RMSE: 0.42 |         Val. Loss: 0.37 | Val. MSE: 0.37 |  Val. RMSE: 0.61 |\n",
      "| Epoch: 157 | Train Loss: 0.18 | Train MSE: 0.18 | Train RMSE: 0.42 |         Val. Loss: 0.39 | Val. MSE: 0.39 |  Val. RMSE: 0.62 |\n",
      "| Epoch: 158 | Train Loss: 0.18 | Train MSE: 0.18 | Train RMSE: 0.42 |         Val. Loss: 0.39 | Val. MSE: 0.39 |  Val. RMSE: 0.63 |\n",
      "| Epoch: 159 | Train Loss: 0.18 | Train MSE: 0.18 | Train RMSE: 0.42 |         Val. Loss: 0.39 | Val. MSE: 0.39 |  Val. RMSE: 0.62 |\n",
      "| Epoch: 160 | Train Loss: 0.18 | Train MSE: 0.18 | Train RMSE: 0.42 |         Val. Loss: 0.38 | Val. MSE: 0.38 |  Val. RMSE: 0.62 |\n",
      "| Epoch: 161 | Train Loss: 0.17 | Train MSE: 0.17 | Train RMSE: 0.41 |         Val. Loss: 0.39 | Val. MSE: 0.39 |  Val. RMSE: 0.62 |\n",
      "| Epoch: 162 | Train Loss: 0.18 | Train MSE: 0.18 | Train RMSE: 0.42 |         Val. Loss: 0.40 | Val. MSE: 0.40 |  Val. RMSE: 0.63 |\n",
      "| Epoch: 163 | Train Loss: 0.17 | Train MSE: 0.17 | Train RMSE: 0.41 |         Val. Loss: 0.38 | Val. MSE: 0.38 |  Val. RMSE: 0.62 |\n",
      "| Epoch: 164 | Train Loss: 0.18 | Train MSE: 0.18 | Train RMSE: 0.42 |         Val. Loss: 0.39 | Val. MSE: 0.39 |  Val. RMSE: 0.63 |\n",
      "| Epoch: 165 | Train Loss: 0.18 | Train MSE: 0.18 | Train RMSE: 0.42 |         Val. Loss: 0.38 | Val. MSE: 0.38 |  Val. RMSE: 0.62 |\n",
      "| Epoch: 166 | Train Loss: 0.18 | Train MSE: 0.18 | Train RMSE: 0.42 |         Val. Loss: 0.38 | Val. MSE: 0.38 |  Val. RMSE: 0.62 |\n",
      "| Epoch: 167 | Train Loss: 0.18 | Train MSE: 0.18 | Train RMSE: 0.42 |         Val. Loss: 0.39 | Val. MSE: 0.39 |  Val. RMSE: 0.63 |\n",
      "| Epoch: 168 | Train Loss: 0.18 | Train MSE: 0.18 | Train RMSE: 0.42 |         Val. Loss: 0.39 | Val. MSE: 0.39 |  Val. RMSE: 0.63 |\n",
      "| Epoch: 169 | Train Loss: 0.17 | Train MSE: 0.17 | Train RMSE: 0.42 |         Val. Loss: 0.39 | Val. MSE: 0.39 |  Val. RMSE: 0.63 |\n",
      "| Epoch: 170 | Train Loss: 0.17 | Train MSE: 0.17 | Train RMSE: 0.42 |         Val. Loss: 0.39 | Val. MSE: 0.39 |  Val. RMSE: 0.63 |\n",
      "| Epoch: 171 | Train Loss: 0.17 | Train MSE: 0.17 | Train RMSE: 0.42 |         Val. Loss: 0.39 | Val. MSE: 0.39 |  Val. RMSE: 0.63 |\n",
      "| Epoch: 172 | Train Loss: 0.18 | Train MSE: 0.18 | Train RMSE: 0.42 |         Val. Loss: 0.38 | Val. MSE: 0.38 |  Val. RMSE: 0.62 |\n",
      "| Epoch: 173 | Train Loss: 0.18 | Train MSE: 0.18 | Train RMSE: 0.42 |         Val. Loss: 0.39 | Val. MSE: 0.39 |  Val. RMSE: 0.63 |\n",
      "| Epoch: 174 | Train Loss: 0.18 | Train MSE: 0.18 | Train RMSE: 0.42 |         Val. Loss: 0.40 | Val. MSE: 0.40 |  Val. RMSE: 0.63 |\n",
      "| Epoch: 175 | Train Loss: 0.17 | Train MSE: 0.17 | Train RMSE: 0.42 |         Val. Loss: 0.39 | Val. MSE: 0.39 |  Val. RMSE: 0.63 |\n",
      "| Epoch: 176 | Train Loss: 0.17 | Train MSE: 0.17 | Train RMSE: 0.42 |         Val. Loss: 0.37 | Val. MSE: 0.37 |  Val. RMSE: 0.61 |\n",
      "| Epoch: 177 | Train Loss: 0.18 | Train MSE: 0.18 | Train RMSE: 0.42 |         Val. Loss: 0.39 | Val. MSE: 0.39 |  Val. RMSE: 0.62 |\n",
      "| Epoch: 178 | Train Loss: 0.18 | Train MSE: 0.18 | Train RMSE: 0.42 |         Val. Loss: 0.38 | Val. MSE: 0.38 |  Val. RMSE: 0.61 |\n",
      "| Epoch: 179 | Train Loss: 0.17 | Train MSE: 0.17 | Train RMSE: 0.42 |         Val. Loss: 0.39 | Val. MSE: 0.39 |  Val. RMSE: 0.63 |\n",
      "| Epoch: 180 | Train Loss: 0.17 | Train MSE: 0.17 | Train RMSE: 0.42 |         Val. Loss: 0.38 | Val. MSE: 0.38 |  Val. RMSE: 0.62 |\n",
      "| Epoch: 181 | Train Loss: 0.17 | Train MSE: 0.17 | Train RMSE: 0.42 |         Val. Loss: 0.39 | Val. MSE: 0.39 |  Val. RMSE: 0.63 |\n",
      "| Epoch: 182 | Train Loss: 0.17 | Train MSE: 0.17 | Train RMSE: 0.41 |         Val. Loss: 0.38 | Val. MSE: 0.38 |  Val. RMSE: 0.61 |\n",
      "| Epoch: 183 | Train Loss: 0.18 | Train MSE: 0.18 | Train RMSE: 0.42 |         Val. Loss: 0.38 | Val. MSE: 0.38 |  Val. RMSE: 0.62 |\n",
      "| Epoch: 184 | Train Loss: 0.17 | Train MSE: 0.17 | Train RMSE: 0.42 |         Val. Loss: 0.38 | Val. MSE: 0.38 |  Val. RMSE: 0.62 |\n",
      "| Epoch: 185 | Train Loss: 0.17 | Train MSE: 0.17 | Train RMSE: 0.41 |         Val. Loss: 0.39 | Val. MSE: 0.39 |  Val. RMSE: 0.62 |\n",
      "| Epoch: 186 | Train Loss: 0.17 | Train MSE: 0.17 | Train RMSE: 0.42 |         Val. Loss: 0.38 | Val. MSE: 0.38 |  Val. RMSE: 0.62 |\n",
      "| Epoch: 187 | Train Loss: 0.17 | Train MSE: 0.17 | Train RMSE: 0.42 |         Val. Loss: 0.39 | Val. MSE: 0.39 |  Val. RMSE: 0.62 |\n",
      "| Epoch: 188 | Train Loss: 0.17 | Train MSE: 0.17 | Train RMSE: 0.41 |         Val. Loss: 0.38 | Val. MSE: 0.38 |  Val. RMSE: 0.62 |\n",
      "| Epoch: 189 | Train Loss: 0.17 | Train MSE: 0.17 | Train RMSE: 0.41 |         Val. Loss: 0.39 | Val. MSE: 0.39 |  Val. RMSE: 0.62 |\n",
      "| Epoch: 190 | Train Loss: 0.17 | Train MSE: 0.17 | Train RMSE: 0.41 |         Val. Loss: 0.39 | Val. MSE: 0.39 |  Val. RMSE: 0.63 |\n",
      "| Epoch: 191 | Train Loss: 0.17 | Train MSE: 0.17 | Train RMSE: 0.41 |         Val. Loss: 0.40 | Val. MSE: 0.40 |  Val. RMSE: 0.63 |\n",
      "| Epoch: 192 | Train Loss: 0.17 | Train MSE: 0.17 | Train RMSE: 0.41 |         Val. Loss: 0.40 | Val. MSE: 0.40 |  Val. RMSE: 0.63 |\n",
      "| Epoch: 193 | Train Loss: 0.17 | Train MSE: 0.17 | Train RMSE: 0.42 |         Val. Loss: 0.40 | Val. MSE: 0.40 |  Val. RMSE: 0.63 |\n",
      "| Epoch: 194 | Train Loss: 0.17 | Train MSE: 0.17 | Train RMSE: 0.42 |         Val. Loss: 0.38 | Val. MSE: 0.38 |  Val. RMSE: 0.61 |\n",
      "| Epoch: 195 | Train Loss: 0.17 | Train MSE: 0.17 | Train RMSE: 0.41 |         Val. Loss: 0.39 | Val. MSE: 0.39 |  Val. RMSE: 0.62 |\n",
      "| Epoch: 196 | Train Loss: 0.17 | Train MSE: 0.17 | Train RMSE: 0.41 |         Val. Loss: 0.38 | Val. MSE: 0.38 |  Val. RMSE: 0.62 |\n",
      "| Epoch: 197 | Train Loss: 0.17 | Train MSE: 0.17 | Train RMSE: 0.42 |         Val. Loss: 0.39 | Val. MSE: 0.39 |  Val. RMSE: 0.62 |\n",
      "| Epoch: 198 | Train Loss: 0.17 | Train MSE: 0.17 | Train RMSE: 0.41 |         Val. Loss: 0.37 | Val. MSE: 0.37 |  Val. RMSE: 0.61 |\n",
      "| Epoch: 199 | Train Loss: 0.17 | Train MSE: 0.17 | Train RMSE: 0.41 |         Val. Loss: 0.39 | Val. MSE: 0.39 |  Val. RMSE: 0.62 |\n",
      "| Epoch: 200 | Train Loss: 0.17 | Train MSE: 0.17 | Train RMSE: 0.42 |         Val. Loss: 0.39 | Val. MSE: 0.39 |  Val. RMSE: 0.62 |\n"
     ]
    }
   ],
   "source": [
    "A1_CNN_Concat_GloVe.run_this_experiment()"
   ],
   "metadata": {
    "collapsed": false,
    "pycharm": {
     "name": "#%%\n"
    }
   }
  }
 ],
 "metadata": {
  "kernelspec": {
   "display_name": "Python 3",
   "language": "python",
   "name": "python3"
  },
  "language_info": {
   "codemirror_mode": {
    "name": "ipython",
    "version": 2
   },
   "file_extension": ".py",
   "mimetype": "text/x-python",
   "name": "python",
   "nbconvert_exporter": "python",
   "pygments_lexer": "ipython2",
   "version": "2.7.6"
  }
 },
 "nbformat": 4,
 "nbformat_minor": 0
}