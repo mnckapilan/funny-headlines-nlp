{
 "cells": [
  {
   "cell_type": "code",
   "execution_count": 5,
   "id": "present-channels",
   "metadata": {},
   "outputs": [],
   "source": [
    "import pandas as pd\n",
    "from sklearn.ensemble import RandomForestRegressor\n",
    "from sklearn.feature_extraction.text import CountVectorizer\n",
    "from sklearn.linear_model import LinearRegression\n",
    "from sklearn.model_selection import train_test_split\n",
    "from sklearn.pipeline import Pipeline\n",
    "from sklearn.preprocessing import PolynomialFeatures\n",
    "from sklearn.svm import SVR\n",
    "from sklearn.neural_network import MLPRegressor\n",
    "\n",
    "from utils.common_utils import model_performance\n",
    "from utils.processor import create_edited_sentences"
   ]
  },
  {
   "cell_type": "code",
   "execution_count": 2,
   "id": "wrapped-jewelry",
   "metadata": {},
   "outputs": [],
   "source": [
    "\"\"\"\n",
    "Create data frames for training and testing sets\n",
    "\"\"\"\n",
    "train_df = pd.read_csv('data/task-1/train.csv')\n",
    "test_df = pd.read_csv('data/task-1/truth_task_1.csv')\n",
    "\n",
    "training_data = train_df['original']\n",
    "training_edits = train_df['edit']\n",
    "training_grades = train_df['meanGrade']\n",
    "\n",
    "edited_training = pd.Series(create_edited_sentences(training_data, training_edits))\n",
    "\n",
    "testing_data = test_df['original']\n",
    "testing_edits = test_df['edit']\n",
    "testing_grades = test_df['meanGrade']\n",
    "\n",
    "edited_testing = pd.Series(create_edited_sentences(testing_data, testing_edits))"
   ]
  },
  {
   "cell_type": "code",
   "execution_count": 3,
   "id": "assisted-carnival",
   "metadata": {},
   "outputs": [],
   "source": [
    "\"\"\"\n",
    "Feature engineering for datasets\n",
    "\"\"\"\n",
    "vectorizer = CountVectorizer()\n",
    "training_bags_of_words = vectorizer.fit_transform(edited_training)\n",
    "testing_bag_of_words = vectorizer.transform(edited_testing)"
   ]
  },
  {
   "cell_type": "code",
   "execution_count": 11,
   "id": "boxed-manhattan",
   "metadata": {},
   "outputs": [
    {
     "name": "stdout",
     "output_type": "stream",
     "text": [
      "| MSE: 0.32 | RMSE: 0.57 |\n"
     ]
    },
    {
     "data": {
      "text/plain": [
       "(970.7414653797691, 0.32101238934516174)"
      ]
     },
     "execution_count": 11,
     "metadata": {},
     "output_type": "execute_result"
    }
   ],
   "source": [
    "\"\"\"\n",
    "Support Vector Regressor\n",
    "\"\"\"\n",
    "model = SVR(kernel='rbf', C=0.1)\n",
    "model = model.fit(training_bags_of_words, training_grades)\n",
    "predictions = model.predict(testing_bag_of_words)\n",
    "\n",
    "model_performance(predictions, testing_grades, print_output=True)"
   ]
  },
  {
   "cell_type": "code",
   "execution_count": 14,
   "id": "challenging-board",
   "metadata": {},
   "outputs": [
    {
     "name": "stdout",
     "output_type": "stream",
     "text": [
      "| MSE: 0.33 | RMSE: 0.57 |\n"
     ]
    },
    {
     "data": {
      "text/plain": [
       "(997.373641835153, 0.32981932600368813)"
      ]
     },
     "execution_count": 14,
     "metadata": {},
     "output_type": "execute_result"
    }
   ],
   "source": [
    "\"\"\"\n",
    "Random Forest Regressor\n",
    "\"\"\"\n",
    "model = RandomForestRegressor()\n",
    "model = model.fit(training_bags_of_words, training_grades)\n",
    "predictions = model.predict(testing_bag_of_words)\n",
    "\n",
    "model_performance(predictions, testing_grades, print_output=True)"
   ]
  },
  {
   "cell_type": "code",
   "execution_count": 15,
   "id": "classified-sustainability",
   "metadata": {},
   "outputs": [
    {
     "name": "stdout",
     "output_type": "stream",
     "text": [
      "| MSE: 19.80 | RMSE: 4.45 |\n"
     ]
    },
    {
     "data": {
      "text/plain": [
       "(59884.301548905525, 19.80300977146347)"
      ]
     },
     "execution_count": 15,
     "metadata": {},
     "output_type": "execute_result"
    }
   ],
   "source": [
    "\"\"\"\n",
    "Linear Regression\n",
    "\"\"\"\n",
    "model = LinearRegression()\n",
    "model = model.fit(training_bags_of_words, training_grades)\n",
    "predictions = model.predict(testing_bag_of_words)\n",
    "\n",
    "model_performance(predictions, testing_grades, print_output=True)"
   ]
  },
  {
   "cell_type": "code",
   "execution_count": 4,
   "id": "front-strategy",
   "metadata": {},
   "outputs": [
    {
     "name": "stdout",
     "output_type": "stream",
     "text": [
      "| MSE: 0.33 | RMSE: 0.57 |\n"
     ]
    },
    {
     "data": {
      "text/plain": [
       "(990.965240766977, 0.3277001457562755)"
      ]
     },
     "execution_count": 4,
     "metadata": {},
     "output_type": "execute_result"
    }
   ],
   "source": [
    "\"\"\"\n",
    "Linear Regression with Polynomial Features\n",
    "\"\"\"\n",
    "poly = PolynomialFeatures(degree=2, interaction_only=True)\n",
    "training_poly = poly.fit_transform(training_bags_of_words)\n",
    "testing_poly = poly.fit_transform(testing_bag_of_words)\n",
    "\n",
    "\n",
    "model = LinearRegression()\n",
    "model = model.fit(training_poly, training_grades)\n",
    "predictions = model.predict(testing_poly)\n",
    "\n",
    "model_performance(predictions, testing_grades, print_output=True)"
   ]
  },
  {
   "cell_type": "code",
   "execution_count": 6,
   "id": "verified-present",
   "metadata": {},
   "outputs": [
    {
     "name": "stdout",
     "output_type": "stream",
     "text": [
      "| MSE: 0.55 | RMSE: 0.74 |\n"
     ]
    },
    {
     "data": {
      "text/plain": [
       "(1657.890442145098, 0.5482441938310509)"
      ]
     },
     "execution_count": 6,
     "metadata": {},
     "output_type": "execute_result"
    }
   ],
   "source": [
    "\"\"\"\n",
    "Neural Network\n",
    "\"\"\"\n",
    "model = MLPRegressor()\n",
    "model = model.fit(training_bags_of_words, training_grades)\n",
    "predictions = model.predict(testing_bag_of_words)\n",
    "\n",
    "model_performance(predictions, testing_grades, print_output=True)"
   ]
  }
 ],
 "metadata": {
  "kernelspec": {
   "display_name": "Python 3",
   "language": "python",
   "name": "python3"
  },
  "language_info": {
   "codemirror_mode": {
    "name": "ipython",
    "version": 3
   },
   "file_extension": ".py",
   "mimetype": "text/x-python",
   "name": "python",
   "nbconvert_exporter": "python",
   "pygments_lexer": "ipython3",
   "version": "3.8.5"
  }
 },
 "nbformat": 4,
 "nbformat_minor": 5
}
