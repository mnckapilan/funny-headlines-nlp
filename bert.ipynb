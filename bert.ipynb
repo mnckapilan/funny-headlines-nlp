{
  "nbformat": 4,
  "nbformat_minor": 5,
  "metadata": {
    "kernelspec": {
      "display_name": "Python 3",
      "language": "python",
      "name": "python3"
    },
    "language_info": {
      "codemirror_mode": {
        "name": "ipython",
        "version": 3
      },
      "file_extension": ".py",
      "mimetype": "text/x-python",
      "name": "python",
      "nbconvert_exporter": "python",
      "pygments_lexer": "ipython3",
      "version": "3.8.5"
    },
    "colab": {
      "name": "bert.ipynb",
      "provenance": [],
      "collapsed_sections": []
    },
    "accelerator": "GPU",
    "widgets": {
      "application/vnd.jupyter.widget-state+json": {
        "eae745d066e34f9ab85d9938055f8e49": {
          "model_module": "@jupyter-widgets/controls",
          "model_name": "HBoxModel",
          "state": {
            "_view_name": "HBoxView",
            "_dom_classes": [],
            "_model_name": "HBoxModel",
            "_view_module": "@jupyter-widgets/controls",
            "_model_module_version": "1.5.0",
            "_view_count": null,
            "_view_module_version": "1.5.0",
            "box_style": "",
            "layout": "IPY_MODEL_569cdf50adc84fa2963ab78e0260cae4",
            "_model_module": "@jupyter-widgets/controls",
            "children": [
              "IPY_MODEL_9f25c783ef554b50a13b7d2a8777d199",
              "IPY_MODEL_17aac051d0fd497d9a887d7ecc8208ae"
            ]
          }
        },
        "569cdf50adc84fa2963ab78e0260cae4": {
          "model_module": "@jupyter-widgets/base",
          "model_name": "LayoutModel",
          "state": {
            "_view_name": "LayoutView",
            "grid_template_rows": null,
            "right": null,
            "justify_content": null,
            "_view_module": "@jupyter-widgets/base",
            "overflow": null,
            "_model_module_version": "1.2.0",
            "_view_count": null,
            "flex_flow": null,
            "width": null,
            "min_width": null,
            "border": null,
            "align_items": null,
            "bottom": null,
            "_model_module": "@jupyter-widgets/base",
            "top": null,
            "grid_column": null,
            "overflow_y": null,
            "overflow_x": null,
            "grid_auto_flow": null,
            "grid_area": null,
            "grid_template_columns": null,
            "flex": null,
            "_model_name": "LayoutModel",
            "justify_items": null,
            "grid_row": null,
            "max_height": null,
            "align_content": null,
            "visibility": null,
            "align_self": null,
            "height": null,
            "min_height": null,
            "padding": null,
            "grid_auto_rows": null,
            "grid_gap": null,
            "max_width": null,
            "order": null,
            "_view_module_version": "1.2.0",
            "grid_template_areas": null,
            "object_position": null,
            "object_fit": null,
            "grid_auto_columns": null,
            "margin": null,
            "display": null,
            "left": null
          }
        },
        "9f25c783ef554b50a13b7d2a8777d199": {
          "model_module": "@jupyter-widgets/controls",
          "model_name": "FloatProgressModel",
          "state": {
            "_view_name": "ProgressView",
            "style": "IPY_MODEL_b4cd1c65f25c445796c686cb14053a6f",
            "_dom_classes": [],
            "description": "Downloading: 100%",
            "_model_name": "FloatProgressModel",
            "bar_style": "success",
            "max": 231508,
            "_view_module": "@jupyter-widgets/controls",
            "_model_module_version": "1.5.0",
            "value": 231508,
            "_view_count": null,
            "_view_module_version": "1.5.0",
            "orientation": "horizontal",
            "min": 0,
            "description_tooltip": null,
            "_model_module": "@jupyter-widgets/controls",
            "layout": "IPY_MODEL_a603648daadc4b2d98f9c4bbb98b5992"
          }
        },
        "17aac051d0fd497d9a887d7ecc8208ae": {
          "model_module": "@jupyter-widgets/controls",
          "model_name": "HTMLModel",
          "state": {
            "_view_name": "HTMLView",
            "style": "IPY_MODEL_3b5686e6e3db4f75b914facb9c6db165",
            "_dom_classes": [],
            "description": "",
            "_model_name": "HTMLModel",
            "placeholder": "​",
            "_view_module": "@jupyter-widgets/controls",
            "_model_module_version": "1.5.0",
            "value": " 232k/232k [00:00&lt;00:00, 3.86MB/s]",
            "_view_count": null,
            "_view_module_version": "1.5.0",
            "description_tooltip": null,
            "_model_module": "@jupyter-widgets/controls",
            "layout": "IPY_MODEL_4d53d90c120844f58a24b86fce44daba"
          }
        },
        "b4cd1c65f25c445796c686cb14053a6f": {
          "model_module": "@jupyter-widgets/controls",
          "model_name": "ProgressStyleModel",
          "state": {
            "_view_name": "StyleView",
            "_model_name": "ProgressStyleModel",
            "description_width": "initial",
            "_view_module": "@jupyter-widgets/base",
            "_model_module_version": "1.5.0",
            "_view_count": null,
            "_view_module_version": "1.2.0",
            "bar_color": null,
            "_model_module": "@jupyter-widgets/controls"
          }
        },
        "a603648daadc4b2d98f9c4bbb98b5992": {
          "model_module": "@jupyter-widgets/base",
          "model_name": "LayoutModel",
          "state": {
            "_view_name": "LayoutView",
            "grid_template_rows": null,
            "right": null,
            "justify_content": null,
            "_view_module": "@jupyter-widgets/base",
            "overflow": null,
            "_model_module_version": "1.2.0",
            "_view_count": null,
            "flex_flow": null,
            "width": null,
            "min_width": null,
            "border": null,
            "align_items": null,
            "bottom": null,
            "_model_module": "@jupyter-widgets/base",
            "top": null,
            "grid_column": null,
            "overflow_y": null,
            "overflow_x": null,
            "grid_auto_flow": null,
            "grid_area": null,
            "grid_template_columns": null,
            "flex": null,
            "_model_name": "LayoutModel",
            "justify_items": null,
            "grid_row": null,
            "max_height": null,
            "align_content": null,
            "visibility": null,
            "align_self": null,
            "height": null,
            "min_height": null,
            "padding": null,
            "grid_auto_rows": null,
            "grid_gap": null,
            "max_width": null,
            "order": null,
            "_view_module_version": "1.2.0",
            "grid_template_areas": null,
            "object_position": null,
            "object_fit": null,
            "grid_auto_columns": null,
            "margin": null,
            "display": null,
            "left": null
          }
        },
        "3b5686e6e3db4f75b914facb9c6db165": {
          "model_module": "@jupyter-widgets/controls",
          "model_name": "DescriptionStyleModel",
          "state": {
            "_view_name": "StyleView",
            "_model_name": "DescriptionStyleModel",
            "description_width": "",
            "_view_module": "@jupyter-widgets/base",
            "_model_module_version": "1.5.0",
            "_view_count": null,
            "_view_module_version": "1.2.0",
            "_model_module": "@jupyter-widgets/controls"
          }
        },
        "4d53d90c120844f58a24b86fce44daba": {
          "model_module": "@jupyter-widgets/base",
          "model_name": "LayoutModel",
          "state": {
            "_view_name": "LayoutView",
            "grid_template_rows": null,
            "right": null,
            "justify_content": null,
            "_view_module": "@jupyter-widgets/base",
            "overflow": null,
            "_model_module_version": "1.2.0",
            "_view_count": null,
            "flex_flow": null,
            "width": null,
            "min_width": null,
            "border": null,
            "align_items": null,
            "bottom": null,
            "_model_module": "@jupyter-widgets/base",
            "top": null,
            "grid_column": null,
            "overflow_y": null,
            "overflow_x": null,
            "grid_auto_flow": null,
            "grid_area": null,
            "grid_template_columns": null,
            "flex": null,
            "_model_name": "LayoutModel",
            "justify_items": null,
            "grid_row": null,
            "max_height": null,
            "align_content": null,
            "visibility": null,
            "align_self": null,
            "height": null,
            "min_height": null,
            "padding": null,
            "grid_auto_rows": null,
            "grid_gap": null,
            "max_width": null,
            "order": null,
            "_view_module_version": "1.2.0",
            "grid_template_areas": null,
            "object_position": null,
            "object_fit": null,
            "grid_auto_columns": null,
            "margin": null,
            "display": null,
            "left": null
          }
        }
      }
    }
  },
  "cells": [
    {
      "cell_type": "markdown",
      "metadata": {
        "id": "bearing-daniel"
      },
      "source": [
        "# Preprocessing"
      ],
      "id": "bearing-daniel"
    },
    {
      "cell_type": "code",
      "metadata": {
        "colab": {
          "base_uri": "https://localhost:8080/"
        },
        "id": "fdWQUNh3hueD",
        "outputId": "dae3fd58-e089-48e9-b943-cbafd8d8e296"
      },
      "source": [
        "from google.colab import drive\n",
        "drive.mount('/content/drive')"
      ],
      "id": "fdWQUNh3hueD",
      "execution_count": 1,
      "outputs": [
        {
          "output_type": "stream",
          "text": [
            "Mounted at /content/drive\n"
          ],
          "name": "stdout"
        }
      ]
    },
    {
      "cell_type": "code",
      "metadata": {
        "colab": {
          "base_uri": "https://localhost:8080/"
        },
        "id": "CMFp_-PwylIW",
        "outputId": "6051d969-a7f0-456f-f645-63d32c4c9624"
      },
      "source": [
        "!pip install transformers"
      ],
      "id": "CMFp_-PwylIW",
      "execution_count": 2,
      "outputs": [
        {
          "output_type": "stream",
          "text": [
            "Collecting transformers\n",
            "\u001b[?25l  Downloading https://files.pythonhosted.org/packages/f9/54/5ca07ec9569d2f232f3166de5457b63943882f7950ddfcc887732fc7fb23/transformers-4.3.3-py3-none-any.whl (1.9MB)\n",
            "\u001b[K     |████████████████████████████████| 1.9MB 18.6MB/s \n",
            "\u001b[?25hCollecting sacremoses\n",
            "\u001b[?25l  Downloading https://files.pythonhosted.org/packages/7d/34/09d19aff26edcc8eb2a01bed8e98f13a1537005d31e95233fd48216eed10/sacremoses-0.0.43.tar.gz (883kB)\n",
            "\u001b[K     |████████████████████████████████| 890kB 52.0MB/s \n",
            "\u001b[?25hRequirement already satisfied: importlib-metadata; python_version < \"3.8\" in /usr/local/lib/python3.7/dist-packages (from transformers) (3.4.0)\n",
            "Collecting tokenizers<0.11,>=0.10.1\n",
            "\u001b[?25l  Downloading https://files.pythonhosted.org/packages/71/23/2ddc317b2121117bf34dd00f5b0de194158f2a44ee2bf5e47c7166878a97/tokenizers-0.10.1-cp37-cp37m-manylinux2010_x86_64.whl (3.2MB)\n",
            "\u001b[K     |████████████████████████████████| 3.2MB 47.3MB/s \n",
            "\u001b[?25hRequirement already satisfied: filelock in /usr/local/lib/python3.7/dist-packages (from transformers) (3.0.12)\n",
            "Requirement already satisfied: tqdm>=4.27 in /usr/local/lib/python3.7/dist-packages (from transformers) (4.41.1)\n",
            "Requirement already satisfied: packaging in /usr/local/lib/python3.7/dist-packages (from transformers) (20.9)\n",
            "Requirement already satisfied: requests in /usr/local/lib/python3.7/dist-packages (from transformers) (2.23.0)\n",
            "Requirement already satisfied: regex!=2019.12.17 in /usr/local/lib/python3.7/dist-packages (from transformers) (2019.12.20)\n",
            "Requirement already satisfied: numpy>=1.17 in /usr/local/lib/python3.7/dist-packages (from transformers) (1.19.5)\n",
            "Requirement already satisfied: six in /usr/local/lib/python3.7/dist-packages (from sacremoses->transformers) (1.15.0)\n",
            "Requirement already satisfied: click in /usr/local/lib/python3.7/dist-packages (from sacremoses->transformers) (7.1.2)\n",
            "Requirement already satisfied: joblib in /usr/local/lib/python3.7/dist-packages (from sacremoses->transformers) (1.0.1)\n",
            "Requirement already satisfied: zipp>=0.5 in /usr/local/lib/python3.7/dist-packages (from importlib-metadata; python_version < \"3.8\"->transformers) (3.4.0)\n",
            "Requirement already satisfied: typing-extensions>=3.6.4; python_version < \"3.8\" in /usr/local/lib/python3.7/dist-packages (from importlib-metadata; python_version < \"3.8\"->transformers) (3.7.4.3)\n",
            "Requirement already satisfied: pyparsing>=2.0.2 in /usr/local/lib/python3.7/dist-packages (from packaging->transformers) (2.4.7)\n",
            "Requirement already satisfied: chardet<4,>=3.0.2 in /usr/local/lib/python3.7/dist-packages (from requests->transformers) (3.0.4)\n",
            "Requirement already satisfied: certifi>=2017.4.17 in /usr/local/lib/python3.7/dist-packages (from requests->transformers) (2020.12.5)\n",
            "Requirement already satisfied: idna<3,>=2.5 in /usr/local/lib/python3.7/dist-packages (from requests->transformers) (2.10)\n",
            "Requirement already satisfied: urllib3!=1.25.0,!=1.25.1,<1.26,>=1.21.1 in /usr/local/lib/python3.7/dist-packages (from requests->transformers) (1.24.3)\n",
            "Building wheels for collected packages: sacremoses\n",
            "  Building wheel for sacremoses (setup.py) ... \u001b[?25l\u001b[?25hdone\n",
            "  Created wheel for sacremoses: filename=sacremoses-0.0.43-cp37-none-any.whl size=893262 sha256=da4519b2f901fdb9eac1568fe3cd13053a26e6e21842fb25ac6c64f9cb965257\n",
            "  Stored in directory: /root/.cache/pip/wheels/29/3c/fd/7ce5c3f0666dab31a50123635e6fb5e19ceb42ce38d4e58f45\n",
            "Successfully built sacremoses\n",
            "Installing collected packages: sacremoses, tokenizers, transformers\n",
            "Successfully installed sacremoses-0.0.43 tokenizers-0.10.1 transformers-4.3.3\n"
          ],
          "name": "stdout"
        }
      ]
    },
    {
      "cell_type": "code",
      "metadata": {
        "colab": {
          "base_uri": "https://localhost:8080/"
        },
        "id": "Tb7pA8y9iRpU",
        "outputId": "847b9e66-1d01-41c4-bc63-9fd2b6d417dc"
      },
      "source": [
        "%cd '/content/drive/MyDrive/Colab Notebooks/NLPGroupCW'"
      ],
      "id": "Tb7pA8y9iRpU",
      "execution_count": 3,
      "outputs": [
        {
          "output_type": "stream",
          "text": [
            "/content/drive/.shortcut-targets-by-id/1qcQshV1qoMFlpNzFTKlWvvjZbTNz5V3t/NLPGroupCW\n"
          ],
          "name": "stdout"
        }
      ]
    },
    {
      "cell_type": "code",
      "metadata": {
        "id": "green-hostel"
      },
      "source": [
        "import torch\n",
        "import torch.nn as nn\n",
        "import torch.nn.functional as F\n",
        "import torch.optim as optim\n",
        "import pandas as pd\n",
        "import numpy as np\n",
        "from torch.utils.data import Dataset, random_split\n",
        "from transformers import BertTokenizer, BertModel\n",
        "\n",
        "from dataloaders import *\n",
        "from processor import *"
      ],
      "id": "green-hostel",
      "execution_count": 4,
      "outputs": []
    },
    {
      "cell_type": "code",
      "metadata": {
        "id": "institutional-burner"
      },
      "source": [
        "# Setting random seed and device\n",
        "SEED = 1\n",
        "\n",
        "torch.manual_seed(SEED)\n",
        "torch.cuda.manual_seed(SEED)\n",
        "torch.backends.cudnn.deterministic = True\n",
        "\n",
        "use_cuda = torch.cuda.is_available()\n",
        "device = torch.device(\"cuda:0\" if use_cuda else \"cpu\")"
      ],
      "id": "institutional-burner",
      "execution_count": 5,
      "outputs": []
    },
    {
      "cell_type": "code",
      "metadata": {
        "colab": {
          "base_uri": "https://localhost:8080/",
          "height": 67,
          "referenced_widgets": [
            "eae745d066e34f9ab85d9938055f8e49",
            "569cdf50adc84fa2963ab78e0260cae4",
            "9f25c783ef554b50a13b7d2a8777d199",
            "17aac051d0fd497d9a887d7ecc8208ae",
            "b4cd1c65f25c445796c686cb14053a6f",
            "a603648daadc4b2d98f9c4bbb98b5992",
            "3b5686e6e3db4f75b914facb9c6db165",
            "4d53d90c120844f58a24b86fce44daba"
          ]
        },
        "id": "democratic-letters",
        "outputId": "86883c8f-5c1a-4f27-ba42-ab1d7ad6c93c"
      },
      "source": [
        "tokenizer = BertTokenizer.from_pretrained('bert-base-uncased')\n",
        "\n",
        "vocab_size = len(tokenizer.vocab)\n",
        "\n",
        "max_sentence_length = tokenizer.max_model_input_sizes['bert-base-uncased']"
      ],
      "id": "democratic-letters",
      "execution_count": 6,
      "outputs": [
        {
          "output_type": "display_data",
          "data": {
            "application/vnd.jupyter.widget-view+json": {
              "model_id": "eae745d066e34f9ab85d9938055f8e49",
              "version_minor": 0,
              "version_major": 2
            },
            "text/plain": [
              "HBox(children=(FloatProgress(value=0.0, description='Downloading', max=231508.0, style=ProgressStyle(descripti…"
            ]
          },
          "metadata": {
            "tags": []
          }
        },
        {
          "output_type": "stream",
          "text": [
            "\n"
          ],
          "name": "stdout"
        }
      ]
    },
    {
      "cell_type": "code",
      "metadata": {
        "id": "medieval-convertible"
      },
      "source": [
        "def tokenize(corpus):\n",
        "    return [tokenizer.tokenize(sentence) for sentence in corpus]\n",
        "\n",
        "def to_ids(corpus):\n",
        "    return [tokenizer.convert_tokens_to_ids(sentence) for sentence in corpus]"
      ],
      "id": "medieval-convertible",
      "execution_count": 7,
      "outputs": []
    },
    {
      "cell_type": "code",
      "metadata": {
        "id": "destroyed-internet"
      },
      "source": [
        "train_df = pd.read_csv('data/task-1/train.csv')\n",
        "test_df = pd.read_csv('data/task-1/dev.csv')\n",
        "\n",
        "training_data = train_df['original']\n",
        "training_edits = train_df['edit']\n",
        "test_data = test_df['original']\n",
        "test_edits = test_df['edit']\n",
        "\n",
        "training_grades = train_df['meanGrade']\n",
        "\n",
        "edited_training = pd.Series(create_edited_sentences(training_data, training_edits))\n",
        "edited_test = pd.Series(create_edited_sentences(test_data, test_edits))"
      ],
      "id": "destroyed-internet",
      "execution_count": 8,
      "outputs": []
    },
    {
      "cell_type": "code",
      "metadata": {
        "id": "apparent-hopkins"
      },
      "source": [
        "training_tokens = tokenize(edited_training)\n",
        "testing_tokens = tokenize(edited_test)\n",
        "\n",
        "training_ids = to_ids(training_tokens)\n",
        "testing_tokens = to_ids(testing_tokens)"
      ],
      "id": "apparent-hopkins",
      "execution_count": 27,
      "outputs": []
    },
    {
      "cell_type": "code",
      "metadata": {
        "colab": {
          "base_uri": "https://localhost:8080/"
        },
        "id": "informal-protest",
        "outputId": "0151d9f5-cbcf-44ff-f8c0-53bd996c9f4e"
      },
      "source": [
        "print(training_tokens[100])\n",
        "print(training_ids[100])"
      ],
      "id": "informal-protest",
      "execution_count": 28,
      "outputs": [
        {
          "output_type": "stream",
          "text": [
            "['trump', 'asked', 'du', '##ter', '##te', 'if', 'philippines', 'has', 'death', 'limit', ',', 'philippines', 'ambassador', 'says']\n",
            "[8398, 2356, 4241, 3334, 2618, 2065, 5137, 2038, 2331, 5787, 1010, 5137, 6059, 2758]\n"
          ],
          "name": "stdout"
        }
      ]
    },
    {
      "cell_type": "code",
      "metadata": {
        "id": "banned-shepherd"
      },
      "source": [
        "train = Task1Dataset(training_ids, training_grades)\n",
        "train_dataset, validation_dataset = dataset_split(train)"
      ],
      "id": "banned-shepherd",
      "execution_count": 29,
      "outputs": []
    },
    {
      "cell_type": "markdown",
      "metadata": {
        "id": "practical-creek"
      },
      "source": [
        "# Build Model"
      ],
      "id": "practical-creek"
    },
    {
      "cell_type": "code",
      "metadata": {
        "id": "sorted-tomato"
      },
      "source": [
        "bert_model = BertModel.from_pretrained('bert-base-uncased')"
      ],
      "id": "sorted-tomato",
      "execution_count": 30,
      "outputs": []
    },
    {
      "cell_type": "code",
      "metadata": {
        "id": "searching-winner"
      },
      "source": [
        "class BertGradePredictor(nn.Module):\n",
        "    def __init__(self, bert_model, total_layers, hid_size, out_size, isBidir, drop):\n",
        "        super().__init__()\n",
        "        \n",
        "        self.bert_model = bert_model\n",
        "\n",
        "        self.isBidir = isBidir\n",
        "        \n",
        "        embed_size = bert_model.config.to_dict()['hidden_size']\n",
        "\n",
        "        if total_layers < 3:\n",
        "          drop = 0\n",
        "\n",
        "        hid_output_size = hid_size\n",
        "        if isBidir:\n",
        "          hid_output_size = hid_output_size * 2\n",
        "        \n",
        "        self.drop = drop\n",
        "\n",
        "        self.gru = nn.GRU(input_size=embed_size,\n",
        "                          hidden_size=hid_size,\n",
        "                          num_layers=total_layers,\n",
        "                          bidirectional=isBidir,\n",
        "                          batch_first=True,\n",
        "                          dropout=drop)\n",
        "        \n",
        "        self.fc1 = nn.Linear(hid_output_size, out_size)\n",
        "        \n",
        "        \n",
        "    def forward(self, x):\n",
        "\n",
        "        isBidir = self.isBidir\n",
        "        \n",
        "        with torch.no_grad():\n",
        "            x_embed = self.bert_model(x)\n",
        "            x_embed = x_embed[0]\n",
        "        \n",
        "        cell, hid = self.gru(x_embed)\n",
        "        hid_last = hid[-1,:,:]\n",
        "        hid_snd_last = hid[-2,:,:]\n",
        "        \n",
        "        if isBidir:\n",
        "            hid = F.dropout(torch.cat((hid_snd_last, hid_last), dim=1), self.drop)\n",
        "        else:\n",
        "            hid = F.dropout(hid_last, self.drop)\n",
        "        \n",
        "        out = self.fc1(hid)\n",
        "        \n",
        "        return out"
      ],
      "id": "searching-winner",
      "execution_count": 31,
      "outputs": []
    },
    {
      "cell_type": "code",
      "metadata": {
        "id": "IkkZ8FHuui03"
      },
      "source": [
        "batch_size = 64\r\n",
        "learning_rate = 0.001\r\n",
        "total_layers = 3\r\n",
        "hid_size = 128\r\n",
        "out_size = 1\r\n",
        "drop = 0.3\r\n",
        "isBidir = True"
      ],
      "id": "IkkZ8FHuui03",
      "execution_count": 32,
      "outputs": []
    },
    {
      "cell_type": "code",
      "metadata": {
        "id": "polyphonic-garlic"
      },
      "source": [
        "def model_performance(output, target, print_output=False):\n",
        "    \"\"\"\n",
        "    Returns SSE and MSE per batch (printing the MSE and the RMSE)\n",
        "    \"\"\"\n",
        "\n",
        "    sq_error = (output - target)**2\n",
        "\n",
        "    sse = np.sum(sq_error)\n",
        "    mse = np.mean(sq_error)\n",
        "    rmse = np.sqrt(mse)\n",
        "\n",
        "    if print_output:\n",
        "        print(f'| MSE: {mse:.2f} | RMSE: {rmse:.2f} |')\n",
        "\n",
        "    return sse, mse"
      ],
      "id": "polyphonic-garlic",
      "execution_count": 39,
      "outputs": []
    },
    {
      "cell_type": "code",
      "metadata": {
        "id": "curious-delhi"
      },
      "source": [
        "def eval(data_iter, model):\n",
        "    \"\"\"\n",
        "    Evaluating model performance on the dev set\n",
        "    \"\"\"\n",
        "    model.eval()\n",
        "    epoch_loss = 0\n",
        "    epoch_sse = 0\n",
        "    pred_all = []\n",
        "    trg_all = []\n",
        "    no_observations = 0\n",
        "\n",
        "    with torch.no_grad():\n",
        "        for batch in data_iter:\n",
        "            feature, target = batch\n",
        "            feature, target = feature.to(device), target.to(device)\n",
        "            # for RNN:\n",
        "            # model.batch_size = target.shape[0]\n",
        "            no_observations = no_observations + target.shape[0]\n",
        "            # model.hidden = model.init_hidden()\n",
        "\n",
        "            predictions = model(feature).squeeze(1)\n",
        "            loss = loss_fn(predictions, target)\n",
        "\n",
        "            # We get the mse\n",
        "            pred, trg = predictions.detach().cpu().numpy(), target.detach().cpu().numpy()\n",
        "            sse, __ = model_performance(pred, trg)\n",
        "\n",
        "            epoch_loss += loss.item()*target.shape[0]\n",
        "            epoch_sse += sse\n",
        "            pred_all.extend(pred)\n",
        "            trg_all.extend(trg)\n",
        "\n",
        "    return epoch_loss/no_observations, epoch_sse/no_observations, np.array(pred_all), np.array(trg_all)"
      ],
      "id": "curious-delhi",
      "execution_count": 40,
      "outputs": []
    },
    {
      "cell_type": "code",
      "metadata": {
        "id": "documented-google"
      },
      "source": [
        "def train(train_loader, validation_loader, model, number_epoch):\n",
        "    \"\"\"\n",
        "    Training loop for the model, which calls on eval to evaluate after each epoch\n",
        "    \"\"\"\n",
        "    print(\"Training model.\")\n",
        "    for epoch in range(1, number_epoch+1):\n",
        "        model.train()\n",
        "        epoch_loss = 0\n",
        "        epoch_sse = 0\n",
        "        no_observations = 0  # Observations used for training so far\n",
        "        for batch in train_loader:\n",
        "            feature, target = batch\n",
        "            feature, target = feature.to(device), target.to(device)\n",
        "            # for RNN:\n",
        "            # model.batch_size = target.shape[0]\n",
        "            no_observations = no_observations + target.shape[0]\n",
        "            # model.hidden = model.init_hidden()\n",
        "            predictions = model(feature).squeeze(1)\n",
        "            optimizer.zero_grad()\n",
        "            loss = loss_fn(predictions, target)\n",
        "            sse, __ = model_performance(predictions.detach().cpu().numpy(), target.detach().cpu().numpy())\n",
        "            loss.backward()\n",
        "            optimizer.step()\n",
        "            epoch_loss += loss.item()*target.shape[0]\n",
        "            epoch_sse += sse\n",
        "\n",
        "        # valid_loss, valid_mse, _, _ = eval(validation_loader, model)\n",
        "\n",
        "        # epoch_loss, epoch_mse = epoch_loss / no_observations, epoch_sse / no_observations\n",
        "        # print(f'| Epoch: {epoch:02} | Train Loss: {epoch_loss:.2f} | Train MSE: {epoch_mse:.2f} | Train RMSE: {epoch_mse**0.5:.2f} | \\\n",
        "        # Val. Loss: {valid_loss:.2f} | Val. MSE: {valid_mse:.2f} |  Val. RMSE: {valid_mse**0.5:.2f} |')\n",
        "\n",
        "        epoch_loss, epoch_mse = epoch_loss / no_observations, epoch_sse / no_observations\n",
        "        print(f'| Epoch: {epoch:02} | Train Loss: {epoch_loss:.2f} | Train MSE: {epoch_mse:.2f} | Train RMSE: {epoch_mse**0.5:.2f} |')"
      ],
      "id": "documented-google",
      "execution_count": 41,
      "outputs": []
    },
    {
      "cell_type": "code",
      "metadata": {
        "id": "gmJJFpCE_lWI"
      },
      "source": [
        "loss_fn = nn.MSELoss()\r\n",
        "loss_fn = loss_fn.to(device)"
      ],
      "id": "gmJJFpCE_lWI",
      "execution_count": 42,
      "outputs": []
    },
    {
      "cell_type": "code",
      "metadata": {
        "id": "NE-glmaF_rEY"
      },
      "source": [
        ""
      ],
      "id": "NE-glmaF_rEY",
      "execution_count": 36,
      "outputs": []
    },
    {
      "cell_type": "code",
      "metadata": {
        "colab": {
          "base_uri": "https://localhost:8080/",
          "height": 1000
        },
        "id": "acquired-terrorism",
        "outputId": "8a28b095-e2fa-4720-dd3c-3f9a1f8de2aa"
      },
      "source": [
        "total_layers_list = [3, 5]\r\n",
        "hid_size_list = [64, 256]\r\n",
        "drop_list = [0.2, 0.4]\r\n",
        "batch_size_list = [64, 256]\r\n",
        "learning_rates = [0.01, 0.001]\r\n",
        "\r\n",
        "best_mse = 10000\r\n",
        "\r\n",
        "for batch_size in batch_size_list:\r\n",
        "  for hid_size in hid_size_list:\r\n",
        "    for total_layers in total_layers_list:\r\n",
        "      for drop in drop_list:\r\n",
        "        for learning_rate in learning_rates:\r\n",
        "          train_loader = torch.utils.data.DataLoader(train_dataset, shuffle=True, batch_size=batch_size, collate_fn=collate_fn_padd)\r\n",
        "          validation_loader = torch.utils.data.DataLoader(validation_dataset, batch_size=batch_size, collate_fn=collate_fn_padd)\r\n",
        "\r\n",
        "          model = BertGradePredictor(bert_model,\r\n",
        "                         total_layers,\r\n",
        "                         hid_size,\r\n",
        "                         out_size,\r\n",
        "                         isBidir,\r\n",
        "                         drop)\r\n",
        "\r\n",
        "          model = model.to(device)\r\n",
        "\r\n",
        "          bert_layers = model.named_parameters()\r\n",
        "          bert_layers = [(layer, parameter) for layer, parameter in bert_layers]\r\n",
        "          for i in range(len(bert_layers)):\r\n",
        "              layer_p = bert_layers[i]\r\n",
        "              layer = layer_p[0]\r\n",
        "              p = layer_p[1]\r\n",
        "              if \"bert_model\" in layer:\r\n",
        "                p.requires_grad = False\r\n",
        "\r\n",
        "          optimizer = optim.Adam(model.parameters(), lr=learning_rate)\r\n",
        "\r\n",
        "          train(train_loader, validation_loader, model, 2)\r\n",
        "\r\n",
        "          _, _, preds, labels = eval(validation_loader, model)\r\n",
        "\r\n",
        "          _, mse = model_performance(preds, labels, print_output=True)\r\n",
        "\r\n",
        "          rmse = np.sqrt(mse)\r\n",
        "\r\n",
        "          print(\"Current Hyperparameters:\")\r\n",
        "          print(\"Batch Size: {}, Hidden Size: {}, Total Layers: {}, Dropout: {}, Learning Rate: {}\".format(batch_size, hid_size, total_layers, drop, learning_rate))\r\n",
        "          print(\"MSE: {}, RMSE: {}\".format(mse, rmse))\r\n",
        "\r\n",
        "          if mse < best_mse:\r\n",
        "            best_mse = mse\r\n",
        "            print(\"Found better hyperparameters...\")\r\n",
        "            model_hyperparams_name = 'bert-mse{}-bs{}-hs{}-lay{}-drp{}-lr{}.pt'.format(mse, batch_size, hid_size, total_layers, drop, learning_rate)\r\n",
        "            torch.save(model.state_dict(), \"./\" + model_hyperparams_name)\r\n",
        "            \r\n",
        "          print()\r\n"
      ],
      "id": "acquired-terrorism",
      "execution_count": 44,
      "outputs": [
        {
          "output_type": "stream",
          "text": [
            "Training model.\n",
            "| Epoch: 01 | Train Loss: 0.49 | Train MSE: 0.49 | Train RMSE: 0.70 |\n",
            "| Epoch: 02 | Train Loss: 0.35 | Train MSE: 0.35 | Train RMSE: 0.59 |\n",
            "| MSE: 0.39 | RMSE: 0.62 |\n",
            "Current Hyperparameters:\n",
            "Batch Size: 64, Hidden Size: 64, Total Layers: 3, Dropout: 0.2, Learning Rate: 0.01\n",
            "MSE: 0.3881896138191223, RMSE: 0.6230486631393433\n",
            "Found better hyperparameters...\n",
            "\n",
            "Training model.\n",
            "| Epoch: 01 | Train Loss: 0.36 | Train MSE: 0.36 | Train RMSE: 0.60 |\n",
            "| Epoch: 02 | Train Loss: 0.34 | Train MSE: 0.34 | Train RMSE: 0.58 |\n",
            "| MSE: 0.37 | RMSE: 0.61 |\n",
            "Current Hyperparameters:\n",
            "Batch Size: 64, Hidden Size: 64, Total Layers: 3, Dropout: 0.2, Learning Rate: 0.001\n",
            "MSE: 0.3717227578163147, RMSE: 0.6096907258033752\n",
            "Found better hyperparameters...\n",
            "\n",
            "Training model.\n"
          ],
          "name": "stdout"
        },
        {
          "output_type": "stream",
          "text": [
            "ERROR:root:Internal Python error in the inspect module.\n",
            "Below is the traceback from this internal error.\n",
            "\n"
          ],
          "name": "stderr"
        },
        {
          "output_type": "stream",
          "text": [
            "Traceback (most recent call last):\n",
            "  File \"/usr/local/lib/python3.7/dist-packages/IPython/core/interactiveshell.py\", line 2882, in run_code\n",
            "    exec(code_obj, self.user_global_ns, self.user_ns)\n",
            "  File \"<ipython-input-44-b1b5cc5d4e5d>\", line 37, in <module>\n",
            "    train(train_loader, validation_loader, model, 2)\n",
            "  File \"<ipython-input-41-2b432e286dc8>\", line 21, in train\n",
            "    sse, __ = model_performance(predictions.detach().cpu().numpy(), target.detach().cpu().numpy())\n",
            "KeyboardInterrupt\n",
            "\n",
            "During handling of the above exception, another exception occurred:\n",
            "\n",
            "Traceback (most recent call last):\n",
            "  File \"/usr/local/lib/python3.7/dist-packages/IPython/core/interactiveshell.py\", line 1823, in showtraceback\n",
            "    stb = value._render_traceback_()\n",
            "AttributeError: 'KeyboardInterrupt' object has no attribute '_render_traceback_'\n",
            "\n",
            "During handling of the above exception, another exception occurred:\n",
            "\n",
            "Traceback (most recent call last):\n",
            "  File \"/usr/local/lib/python3.7/dist-packages/IPython/core/ultratb.py\", line 1132, in get_records\n",
            "    return _fixed_getinnerframes(etb, number_of_lines_of_context, tb_offset)\n",
            "  File \"/usr/local/lib/python3.7/dist-packages/IPython/core/ultratb.py\", line 313, in wrapped\n",
            "    return f(*args, **kwargs)\n",
            "  File \"/usr/local/lib/python3.7/dist-packages/IPython/core/ultratb.py\", line 358, in _fixed_getinnerframes\n",
            "    records = fix_frame_records_filenames(inspect.getinnerframes(etb, context))\n",
            "  File \"/usr/lib/python3.7/inspect.py\", line 1502, in getinnerframes\n",
            "    frameinfo = (tb.tb_frame,) + getframeinfo(tb, context)\n",
            "  File \"/usr/lib/python3.7/inspect.py\", line 1460, in getframeinfo\n",
            "    filename = getsourcefile(frame) or getfile(frame)\n",
            "  File \"/usr/lib/python3.7/inspect.py\", line 696, in getsourcefile\n",
            "    if getattr(getmodule(object, filename), '__loader__', None) is not None:\n",
            "  File \"/usr/lib/python3.7/inspect.py\", line 725, in getmodule\n",
            "    file = getabsfile(object, _filename)\n",
            "  File \"/usr/lib/python3.7/inspect.py\", line 709, in getabsfile\n",
            "    return os.path.normcase(os.path.abspath(_filename))\n",
            "  File \"/usr/lib/python3.7/posixpath.py\", line 383, in abspath\n",
            "    cwd = os.getcwd()\n",
            "FileNotFoundError: [Errno 2] No such file or directory\n"
          ],
          "name": "stdout"
        },
        {
          "output_type": "error",
          "ename": "KeyboardInterrupt",
          "evalue": "ignored",
          "traceback": [
            "\u001b[0;31m---------------------------------------------------------------------------\u001b[0m"
          ]
        }
      ]
    },
    {
      "cell_type": "code",
      "metadata": {
        "id": "T9pBMkH3i0Sz"
      },
      "source": [
        ""
      ],
      "id": "T9pBMkH3i0Sz",
      "execution_count": 37,
      "outputs": []
    }
  ]
}